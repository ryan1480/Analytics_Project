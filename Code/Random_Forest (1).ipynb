{
 "cells": [
  {
   "metadata": {},
   "cell_type": "markdown",
   "source": [
    "## Step 1 – Load and Inspect the Data\n",
    "\n",
    "Before starting any modeling steps, we load the cleaned dataset and perform a basic inspection to ensure the data is properly structured and ready for use.\n",
    "\n",
    "Although the dataset has already been cleaned, it is still important to:\n",
    "- Confirm that the file was loaded correctly\n",
    "- Verify that there are no missing values\n",
    "- Check the structure and data types of all columns\n",
    "- Review the distribution of the target variable `fraud`\n",
    "- Understand the overall shape of the dataset\n",
    "\n",
    "These steps ensure that we begin model development with confidence in the dataset’s integrity.\n"
   ],
   "id": "9226954da0f0f95f"
  },
  {
   "metadata": {
    "ExecuteTime": {
     "end_time": "2025-05-23T22:08:30.786528Z",
     "start_time": "2025-05-23T22:08:30.127411Z"
    }
   },
   "cell_type": "code",
   "source": [
    "import pandas as pd\n",
    "\n",
    "# Load the dataset (adjust the file path if needed)\n",
    "df = pd.read_csv(\"../Data/Fraud_Cleaned.csv\")\n",
    "\n",
    "# Display structure and data types\n",
    "print(\"Data Structure:\")\n",
    "print(df.info())\n",
    "\n",
    "# Check for missing values\n",
    "print(\"\\nMissing Values:\")\n",
    "print(df.isnull().sum())\n",
    "\n",
    "# Check class distribution of the target variable\n",
    "print(\"\\nClass Distribution of the Target Variable 'fraud':\")\n",
    "print(df[\"fraud\"].value_counts(normalize=True))\n",
    "\n",
    "# Print the shape of the dataset\n",
    "print(\"\\nShape of the Dataset:\", df.shape)"
   ],
   "id": "e5ad7e62a3a3d07",
   "outputs": [
    {
     "name": "stdout",
     "output_type": "stream",
     "text": [
      "Data Structure:\n",
      "<class 'pandas.core.frame.DataFrame'>\n",
      "RangeIndex: 498050 entries, 0 to 498049\n",
      "Data columns (total 10 columns):\n",
      " #   Column                     Non-Null Count   Dtype  \n",
      "---  ------                     --------------   -----  \n",
      " 0   trustLevel                 498050 non-null  int64  \n",
      " 1   totalScanTimeInSeconds     498050 non-null  int64  \n",
      " 2   grandTotal                 498050 non-null  float64\n",
      " 3   lineItemVoids              498050 non-null  int64  \n",
      " 4   scansWithoutRegistration   498050 non-null  int64  \n",
      " 5   quantityModification       498050 non-null  int64  \n",
      " 6   scannedLineItemsPerSecond  498050 non-null  float64\n",
      " 7   valuePerSecond             498050 non-null  float64\n",
      " 8   lineItemVoidsPerPosition   498050 non-null  float64\n",
      " 9   fraud                      498050 non-null  int64  \n",
      "dtypes: float64(4), int64(6)\n",
      "memory usage: 38.0 MB\n",
      "None\n",
      "\n",
      "Missing Values:\n",
      "trustLevel                   0\n",
      "totalScanTimeInSeconds       0\n",
      "grandTotal                   0\n",
      "lineItemVoids                0\n",
      "scansWithoutRegistration     0\n",
      "quantityModification         0\n",
      "scannedLineItemsPerSecond    0\n",
      "valuePerSecond               0\n",
      "lineItemVoidsPerPosition     0\n",
      "fraud                        0\n",
      "dtype: int64\n",
      "\n",
      "Class Distribution of the Target Variable 'fraud':\n",
      "fraud\n",
      "0    0.952366\n",
      "1    0.047634\n",
      "Name: proportion, dtype: float64\n",
      "\n",
      "Shape of the Dataset: (498050, 10)\n"
     ]
    }
   ],
   "execution_count": 9
  },
  {
   "metadata": {},
   "cell_type": "markdown",
   "source": [
    "## Step 2 – Define Features and Split the Data\n",
    "\n",
    "In this step, we define the feature set (`X`) and the target variable (`y`) from the dataset.\n",
    "\n",
    "- The target variable `fraud` indicates whether a transaction is fraudulent (`1`) or not (`0`).\n",
    "- We drop this column from the feature matrix `X` and keep it as the target vector `y`.\n",
    "\n",
    "We then split the dataset into three separate sets using stratified sampling to preserve the class distribution:\n",
    "- **70%** Training set – for model training and hyperparameter tuning\n",
    "- **15%** Validation set – for threshold tuning and intermediate evaluation\n",
    "- **15%** Test set – for final evaluation of the model\n",
    "\n",
    "This structure ensures that each phase of the model development process is separated and avoids information leakage."
   ],
   "id": "c6fe2f5c7d03742"
  },
  {
   "metadata": {
    "ExecuteTime": {
     "end_time": "2025-05-23T22:08:36.991017Z",
     "start_time": "2025-05-23T22:08:35.903085Z"
    }
   },
   "cell_type": "code",
   "source": [
    "import pandas as pd\n",
    "from sklearn.model_selection import train_test_split\n",
    "\n",
    "# Load the cleaned dataset\n",
    "df = pd.read_csv(\"../Data/Fraud_Cleaned.csv\")\n",
    "\n",
    "# Define features (X) and target variable (y)\n",
    "X = df.drop(\"fraud\", axis=1)  # All columns except the target\n",
    "y = df[\"fraud\"]               # Target variable (0 = no fraud, 1 = fraud)\n",
    "\n",
    "# Split the data: 70% train, 15% validation, 15% test (with stratification)\n",
    "X_train, X_temp, y_train, y_temp = train_test_split(X, y, test_size=0.30, random_state=42, stratify=y)\n",
    "X_val, X_test, y_val, y_test = train_test_split(X_temp, y_temp, test_size=0.50, random_state=42, stratify=y_temp)\n",
    "\n",
    "# Print shapes to verify the split\n",
    "print(f\"Training set size:     {X_train.shape}\")\n",
    "print(f\"Validation set size:   {X_val.shape}\")\n",
    "print(f\"Test set size:         {X_test.shape}\")"
   ],
   "id": "1009e83bf5f1dcb8",
   "outputs": [
    {
     "name": "stdout",
     "output_type": "stream",
     "text": [
      "Training set size:     (348635, 9)\n",
      "Validation set size:   (74707, 9)\n",
      "Test set size:         (74708, 9)\n"
     ]
    }
   ],
   "execution_count": 10
  },
  {
   "metadata": {},
   "cell_type": "markdown",
   "source": [
    "## Step 3 – Hyperparameter Tuning for Random Forest\n",
    "\n",
    "In this step, we use `RandomizedSearchCV` to perform hyperparameter tuning for the `RandomForestClassifier`.\n",
    "\n",
    "We define a hyperparameter search space that includes:\n",
    "- `n_estimators`: number of trees in the forest\n",
    "- `max_depth`: maximum depth of each tree\n",
    "- `min_samples_split`: minimum number of samples required to split a node\n",
    "- `min_samples_leaf`: minimum number of samples required to be at a leaf node\n",
    "- `max_features`: number of features to consider when looking for the best split\n",
    "\n",
    "Using 5-fold cross-validation, we randomly sample 30 combinations of these parameters and evaluate them using the **F1-score**, which balances precision and recall—particularly important for imbalanced classification problems like fraud detection.\n",
    "\n",
    "The best-performing model is saved in the variable `best_rf`, and the optimal parameters are printed.\n"
   ],
   "id": "6b9c6f09f793775f"
  },
  {
   "metadata": {
    "ExecuteTime": {
     "end_time": "2025-05-23T22:19:07.429611900Z",
     "start_time": "2025-05-23T22:11:05.381741Z"
    }
   },
   "cell_type": "code",
   "source": [
    "from sklearn.ensemble import RandomForestClassifier\n",
    "from sklearn.model_selection import RandomizedSearchCV\n",
    "import numpy as np\n",
    "\n",
    "# Define the base Random Forest model\n",
    "rf = RandomForestClassifier(\n",
    "    random_state=42,\n",
    "    class_weight='balanced',  # handle class imbalance\n",
    "    n_jobs=-1                 # use all available CPU cores\n",
    ")\n",
    "\n",
    "# Define the hyperparameter search space\n",
    "param_dist = {\n",
    "    'n_estimators': [100, 200, 300],\n",
    "    'max_depth': [10, 20, 30, None],\n",
    "    'min_samples_split': [2, 5, 10],\n",
    "    'min_samples_leaf': [1, 2, 4],\n",
    "    'max_features': ['sqrt', 'log2']\n",
    "}\n",
    "\n",
    "# Set up the randomized search with cross-validation\n",
    "random_search = RandomizedSearchCV(\n",
    "    estimator=rf,\n",
    "    param_distributions=param_dist,\n",
    "    n_iter=30,\n",
    "    cv=5,\n",
    "    scoring='f1',           # optimize for F1-score\n",
    "    verbose=1,\n",
    "    random_state=42,\n",
    "    n_jobs=-1\n",
    ")\n",
    "\n",
    "# Perform the hyperparameter tuning\n",
    "random_search.fit(X_train, y_train)\n",
    "\n",
    "# Save the best model and print its parameters\n",
    "best_rf = random_search.best_estimator_\n",
    "best_params = random_search.best_params_\n",
    "\n",
    "print(\"Best hyperparameters found:\")\n",
    "print(best_params)\n"
   ],
   "id": "eaf61a139d42f530",
   "outputs": [
    {
     "name": "stdout",
     "output_type": "stream",
     "text": [
      "Fitting 5 folds for each of 30 candidates, totalling 150 fits\n"
     ]
    },
    {
     "ename": "KeyboardInterrupt",
     "evalue": "",
     "output_type": "error",
     "traceback": [
      "\u001B[1;31m---------------------------------------------------------------------------\u001B[0m",
      "\u001B[1;31mKeyboardInterrupt\u001B[0m                         Traceback (most recent call last)",
      "Cell \u001B[1;32mIn[12], line 34\u001B[0m\n\u001B[0;32m     22\u001B[0m random_search \u001B[38;5;241m=\u001B[39m RandomizedSearchCV(\n\u001B[0;32m     23\u001B[0m     estimator\u001B[38;5;241m=\u001B[39mrf,\n\u001B[0;32m     24\u001B[0m     param_distributions\u001B[38;5;241m=\u001B[39mparam_dist,\n\u001B[1;32m   (...)\u001B[0m\n\u001B[0;32m     30\u001B[0m     n_jobs\u001B[38;5;241m=\u001B[39m\u001B[38;5;241m-\u001B[39m\u001B[38;5;241m1\u001B[39m\n\u001B[0;32m     31\u001B[0m )\n\u001B[0;32m     33\u001B[0m \u001B[38;5;66;03m# Perform the hyperparameter tuning\u001B[39;00m\n\u001B[1;32m---> 34\u001B[0m \u001B[43mrandom_search\u001B[49m\u001B[38;5;241;43m.\u001B[39;49m\u001B[43mfit\u001B[49m\u001B[43m(\u001B[49m\u001B[43mX_train\u001B[49m\u001B[43m,\u001B[49m\u001B[43m \u001B[49m\u001B[43my_train\u001B[49m\u001B[43m)\u001B[49m\n\u001B[0;32m     36\u001B[0m \u001B[38;5;66;03m# Save the best model and print its parameters\u001B[39;00m\n\u001B[0;32m     37\u001B[0m best_rf \u001B[38;5;241m=\u001B[39m random_search\u001B[38;5;241m.\u001B[39mbest_estimator_\n",
      "File \u001B[1;32m~\\PycharmProjects\\GaddisPrograms\\.venv\\Lib\\site-packages\\sklearn\\base.py:1389\u001B[0m, in \u001B[0;36m_fit_context.<locals>.decorator.<locals>.wrapper\u001B[1;34m(estimator, *args, **kwargs)\u001B[0m\n\u001B[0;32m   1382\u001B[0m     estimator\u001B[38;5;241m.\u001B[39m_validate_params()\n\u001B[0;32m   1384\u001B[0m \u001B[38;5;28;01mwith\u001B[39;00m config_context(\n\u001B[0;32m   1385\u001B[0m     skip_parameter_validation\u001B[38;5;241m=\u001B[39m(\n\u001B[0;32m   1386\u001B[0m         prefer_skip_nested_validation \u001B[38;5;129;01mor\u001B[39;00m global_skip_validation\n\u001B[0;32m   1387\u001B[0m     )\n\u001B[0;32m   1388\u001B[0m ):\n\u001B[1;32m-> 1389\u001B[0m     \u001B[38;5;28;01mreturn\u001B[39;00m \u001B[43mfit_method\u001B[49m\u001B[43m(\u001B[49m\u001B[43mestimator\u001B[49m\u001B[43m,\u001B[49m\u001B[43m \u001B[49m\u001B[38;5;241;43m*\u001B[39;49m\u001B[43margs\u001B[49m\u001B[43m,\u001B[49m\u001B[43m \u001B[49m\u001B[38;5;241;43m*\u001B[39;49m\u001B[38;5;241;43m*\u001B[39;49m\u001B[43mkwargs\u001B[49m\u001B[43m)\u001B[49m\n",
      "File \u001B[1;32m~\\PycharmProjects\\GaddisPrograms\\.venv\\Lib\\site-packages\\sklearn\\model_selection\\_search.py:1024\u001B[0m, in \u001B[0;36mBaseSearchCV.fit\u001B[1;34m(self, X, y, **params)\u001B[0m\n\u001B[0;32m   1018\u001B[0m     results \u001B[38;5;241m=\u001B[39m \u001B[38;5;28mself\u001B[39m\u001B[38;5;241m.\u001B[39m_format_results(\n\u001B[0;32m   1019\u001B[0m         all_candidate_params, n_splits, all_out, all_more_results\n\u001B[0;32m   1020\u001B[0m     )\n\u001B[0;32m   1022\u001B[0m     \u001B[38;5;28;01mreturn\u001B[39;00m results\n\u001B[1;32m-> 1024\u001B[0m \u001B[38;5;28;43mself\u001B[39;49m\u001B[38;5;241;43m.\u001B[39;49m\u001B[43m_run_search\u001B[49m\u001B[43m(\u001B[49m\u001B[43mevaluate_candidates\u001B[49m\u001B[43m)\u001B[49m\n\u001B[0;32m   1026\u001B[0m \u001B[38;5;66;03m# multimetric is determined here because in the case of a callable\u001B[39;00m\n\u001B[0;32m   1027\u001B[0m \u001B[38;5;66;03m# self.scoring the return type is only known after calling\u001B[39;00m\n\u001B[0;32m   1028\u001B[0m first_test_score \u001B[38;5;241m=\u001B[39m all_out[\u001B[38;5;241m0\u001B[39m][\u001B[38;5;124m\"\u001B[39m\u001B[38;5;124mtest_scores\u001B[39m\u001B[38;5;124m\"\u001B[39m]\n",
      "File \u001B[1;32m~\\PycharmProjects\\GaddisPrograms\\.venv\\Lib\\site-packages\\sklearn\\model_selection\\_search.py:1951\u001B[0m, in \u001B[0;36mRandomizedSearchCV._run_search\u001B[1;34m(self, evaluate_candidates)\u001B[0m\n\u001B[0;32m   1949\u001B[0m \u001B[38;5;28;01mdef\u001B[39;00m \u001B[38;5;21m_run_search\u001B[39m(\u001B[38;5;28mself\u001B[39m, evaluate_candidates):\n\u001B[0;32m   1950\u001B[0m \u001B[38;5;250m    \u001B[39m\u001B[38;5;124;03m\"\"\"Search n_iter candidates from param_distributions\"\"\"\u001B[39;00m\n\u001B[1;32m-> 1951\u001B[0m     \u001B[43mevaluate_candidates\u001B[49m\u001B[43m(\u001B[49m\n\u001B[0;32m   1952\u001B[0m \u001B[43m        \u001B[49m\u001B[43mParameterSampler\u001B[49m\u001B[43m(\u001B[49m\n\u001B[0;32m   1953\u001B[0m \u001B[43m            \u001B[49m\u001B[38;5;28;43mself\u001B[39;49m\u001B[38;5;241;43m.\u001B[39;49m\u001B[43mparam_distributions\u001B[49m\u001B[43m,\u001B[49m\u001B[43m \u001B[49m\u001B[38;5;28;43mself\u001B[39;49m\u001B[38;5;241;43m.\u001B[39;49m\u001B[43mn_iter\u001B[49m\u001B[43m,\u001B[49m\u001B[43m \u001B[49m\u001B[43mrandom_state\u001B[49m\u001B[38;5;241;43m=\u001B[39;49m\u001B[38;5;28;43mself\u001B[39;49m\u001B[38;5;241;43m.\u001B[39;49m\u001B[43mrandom_state\u001B[49m\n\u001B[0;32m   1954\u001B[0m \u001B[43m        \u001B[49m\u001B[43m)\u001B[49m\n\u001B[0;32m   1955\u001B[0m \u001B[43m    \u001B[49m\u001B[43m)\u001B[49m\n",
      "File \u001B[1;32m~\\PycharmProjects\\GaddisPrograms\\.venv\\Lib\\site-packages\\sklearn\\model_selection\\_search.py:970\u001B[0m, in \u001B[0;36mBaseSearchCV.fit.<locals>.evaluate_candidates\u001B[1;34m(candidate_params, cv, more_results)\u001B[0m\n\u001B[0;32m    962\u001B[0m \u001B[38;5;28;01mif\u001B[39;00m \u001B[38;5;28mself\u001B[39m\u001B[38;5;241m.\u001B[39mverbose \u001B[38;5;241m>\u001B[39m \u001B[38;5;241m0\u001B[39m:\n\u001B[0;32m    963\u001B[0m     \u001B[38;5;28mprint\u001B[39m(\n\u001B[0;32m    964\u001B[0m         \u001B[38;5;124m\"\u001B[39m\u001B[38;5;124mFitting \u001B[39m\u001B[38;5;132;01m{0}\u001B[39;00m\u001B[38;5;124m folds for each of \u001B[39m\u001B[38;5;132;01m{1}\u001B[39;00m\u001B[38;5;124m candidates,\u001B[39m\u001B[38;5;124m\"\u001B[39m\n\u001B[0;32m    965\u001B[0m         \u001B[38;5;124m\"\u001B[39m\u001B[38;5;124m totalling \u001B[39m\u001B[38;5;132;01m{2}\u001B[39;00m\u001B[38;5;124m fits\u001B[39m\u001B[38;5;124m\"\u001B[39m\u001B[38;5;241m.\u001B[39mformat(\n\u001B[0;32m    966\u001B[0m             n_splits, n_candidates, n_candidates \u001B[38;5;241m*\u001B[39m n_splits\n\u001B[0;32m    967\u001B[0m         )\n\u001B[0;32m    968\u001B[0m     )\n\u001B[1;32m--> 970\u001B[0m out \u001B[38;5;241m=\u001B[39m \u001B[43mparallel\u001B[49m\u001B[43m(\u001B[49m\n\u001B[0;32m    971\u001B[0m \u001B[43m    \u001B[49m\u001B[43mdelayed\u001B[49m\u001B[43m(\u001B[49m\u001B[43m_fit_and_score\u001B[49m\u001B[43m)\u001B[49m\u001B[43m(\u001B[49m\n\u001B[0;32m    972\u001B[0m \u001B[43m        \u001B[49m\u001B[43mclone\u001B[49m\u001B[43m(\u001B[49m\u001B[43mbase_estimator\u001B[49m\u001B[43m)\u001B[49m\u001B[43m,\u001B[49m\n\u001B[0;32m    973\u001B[0m \u001B[43m        \u001B[49m\u001B[43mX\u001B[49m\u001B[43m,\u001B[49m\n\u001B[0;32m    974\u001B[0m \u001B[43m        \u001B[49m\u001B[43my\u001B[49m\u001B[43m,\u001B[49m\n\u001B[0;32m    975\u001B[0m \u001B[43m        \u001B[49m\u001B[43mtrain\u001B[49m\u001B[38;5;241;43m=\u001B[39;49m\u001B[43mtrain\u001B[49m\u001B[43m,\u001B[49m\n\u001B[0;32m    976\u001B[0m \u001B[43m        \u001B[49m\u001B[43mtest\u001B[49m\u001B[38;5;241;43m=\u001B[39;49m\u001B[43mtest\u001B[49m\u001B[43m,\u001B[49m\n\u001B[0;32m    977\u001B[0m \u001B[43m        \u001B[49m\u001B[43mparameters\u001B[49m\u001B[38;5;241;43m=\u001B[39;49m\u001B[43mparameters\u001B[49m\u001B[43m,\u001B[49m\n\u001B[0;32m    978\u001B[0m \u001B[43m        \u001B[49m\u001B[43msplit_progress\u001B[49m\u001B[38;5;241;43m=\u001B[39;49m\u001B[43m(\u001B[49m\u001B[43msplit_idx\u001B[49m\u001B[43m,\u001B[49m\u001B[43m \u001B[49m\u001B[43mn_splits\u001B[49m\u001B[43m)\u001B[49m\u001B[43m,\u001B[49m\n\u001B[0;32m    979\u001B[0m \u001B[43m        \u001B[49m\u001B[43mcandidate_progress\u001B[49m\u001B[38;5;241;43m=\u001B[39;49m\u001B[43m(\u001B[49m\u001B[43mcand_idx\u001B[49m\u001B[43m,\u001B[49m\u001B[43m \u001B[49m\u001B[43mn_candidates\u001B[49m\u001B[43m)\u001B[49m\u001B[43m,\u001B[49m\n\u001B[0;32m    980\u001B[0m \u001B[43m        \u001B[49m\u001B[38;5;241;43m*\u001B[39;49m\u001B[38;5;241;43m*\u001B[39;49m\u001B[43mfit_and_score_kwargs\u001B[49m\u001B[43m,\u001B[49m\n\u001B[0;32m    981\u001B[0m \u001B[43m    \u001B[49m\u001B[43m)\u001B[49m\n\u001B[0;32m    982\u001B[0m \u001B[43m    \u001B[49m\u001B[38;5;28;43;01mfor\u001B[39;49;00m\u001B[43m \u001B[49m\u001B[43m(\u001B[49m\u001B[43mcand_idx\u001B[49m\u001B[43m,\u001B[49m\u001B[43m \u001B[49m\u001B[43mparameters\u001B[49m\u001B[43m)\u001B[49m\u001B[43m,\u001B[49m\u001B[43m \u001B[49m\u001B[43m(\u001B[49m\u001B[43msplit_idx\u001B[49m\u001B[43m,\u001B[49m\u001B[43m \u001B[49m\u001B[43m(\u001B[49m\u001B[43mtrain\u001B[49m\u001B[43m,\u001B[49m\u001B[43m \u001B[49m\u001B[43mtest\u001B[49m\u001B[43m)\u001B[49m\u001B[43m)\u001B[49m\u001B[43m \u001B[49m\u001B[38;5;129;43;01min\u001B[39;49;00m\u001B[43m \u001B[49m\u001B[43mproduct\u001B[49m\u001B[43m(\u001B[49m\n\u001B[0;32m    983\u001B[0m \u001B[43m        \u001B[49m\u001B[38;5;28;43menumerate\u001B[39;49m\u001B[43m(\u001B[49m\u001B[43mcandidate_params\u001B[49m\u001B[43m)\u001B[49m\u001B[43m,\u001B[49m\n\u001B[0;32m    984\u001B[0m \u001B[43m        \u001B[49m\u001B[38;5;28;43menumerate\u001B[39;49m\u001B[43m(\u001B[49m\u001B[43mcv\u001B[49m\u001B[38;5;241;43m.\u001B[39;49m\u001B[43msplit\u001B[49m\u001B[43m(\u001B[49m\u001B[43mX\u001B[49m\u001B[43m,\u001B[49m\u001B[43m \u001B[49m\u001B[43my\u001B[49m\u001B[43m,\u001B[49m\u001B[43m \u001B[49m\u001B[38;5;241;43m*\u001B[39;49m\u001B[38;5;241;43m*\u001B[39;49m\u001B[43mrouted_params\u001B[49m\u001B[38;5;241;43m.\u001B[39;49m\u001B[43msplitter\u001B[49m\u001B[38;5;241;43m.\u001B[39;49m\u001B[43msplit\u001B[49m\u001B[43m)\u001B[49m\u001B[43m)\u001B[49m\u001B[43m,\u001B[49m\n\u001B[0;32m    985\u001B[0m \u001B[43m    \u001B[49m\u001B[43m)\u001B[49m\n\u001B[0;32m    986\u001B[0m \u001B[43m\u001B[49m\u001B[43m)\u001B[49m\n\u001B[0;32m    988\u001B[0m \u001B[38;5;28;01mif\u001B[39;00m \u001B[38;5;28mlen\u001B[39m(out) \u001B[38;5;241m<\u001B[39m \u001B[38;5;241m1\u001B[39m:\n\u001B[0;32m    989\u001B[0m     \u001B[38;5;28;01mraise\u001B[39;00m \u001B[38;5;167;01mValueError\u001B[39;00m(\n\u001B[0;32m    990\u001B[0m         \u001B[38;5;124m\"\u001B[39m\u001B[38;5;124mNo fits were performed. \u001B[39m\u001B[38;5;124m\"\u001B[39m\n\u001B[0;32m    991\u001B[0m         \u001B[38;5;124m\"\u001B[39m\u001B[38;5;124mWas the CV iterator empty? \u001B[39m\u001B[38;5;124m\"\u001B[39m\n\u001B[0;32m    992\u001B[0m         \u001B[38;5;124m\"\u001B[39m\u001B[38;5;124mWere there no candidates?\u001B[39m\u001B[38;5;124m\"\u001B[39m\n\u001B[0;32m    993\u001B[0m     )\n",
      "File \u001B[1;32m~\\PycharmProjects\\GaddisPrograms\\.venv\\Lib\\site-packages\\sklearn\\utils\\parallel.py:77\u001B[0m, in \u001B[0;36mParallel.__call__\u001B[1;34m(self, iterable)\u001B[0m\n\u001B[0;32m     72\u001B[0m config \u001B[38;5;241m=\u001B[39m get_config()\n\u001B[0;32m     73\u001B[0m iterable_with_config \u001B[38;5;241m=\u001B[39m (\n\u001B[0;32m     74\u001B[0m     (_with_config(delayed_func, config), args, kwargs)\n\u001B[0;32m     75\u001B[0m     \u001B[38;5;28;01mfor\u001B[39;00m delayed_func, args, kwargs \u001B[38;5;129;01min\u001B[39;00m iterable\n\u001B[0;32m     76\u001B[0m )\n\u001B[1;32m---> 77\u001B[0m \u001B[38;5;28;01mreturn\u001B[39;00m \u001B[38;5;28;43msuper\u001B[39;49m\u001B[43m(\u001B[49m\u001B[43m)\u001B[49m\u001B[38;5;241;43m.\u001B[39;49m\u001B[38;5;21;43m__call__\u001B[39;49m\u001B[43m(\u001B[49m\u001B[43miterable_with_config\u001B[49m\u001B[43m)\u001B[49m\n",
      "File \u001B[1;32m~\\PycharmProjects\\GaddisPrograms\\.venv\\Lib\\site-packages\\joblib\\parallel.py:2007\u001B[0m, in \u001B[0;36mParallel.__call__\u001B[1;34m(self, iterable)\u001B[0m\n\u001B[0;32m   2001\u001B[0m \u001B[38;5;66;03m# The first item from the output is blank, but it makes the interpreter\u001B[39;00m\n\u001B[0;32m   2002\u001B[0m \u001B[38;5;66;03m# progress until it enters the Try/Except block of the generator and\u001B[39;00m\n\u001B[0;32m   2003\u001B[0m \u001B[38;5;66;03m# reaches the first `yield` statement. This starts the asynchronous\u001B[39;00m\n\u001B[0;32m   2004\u001B[0m \u001B[38;5;66;03m# dispatch of the tasks to the workers.\u001B[39;00m\n\u001B[0;32m   2005\u001B[0m \u001B[38;5;28mnext\u001B[39m(output)\n\u001B[1;32m-> 2007\u001B[0m \u001B[38;5;28;01mreturn\u001B[39;00m output \u001B[38;5;28;01mif\u001B[39;00m \u001B[38;5;28mself\u001B[39m\u001B[38;5;241m.\u001B[39mreturn_generator \u001B[38;5;28;01melse\u001B[39;00m \u001B[38;5;28;43mlist\u001B[39;49m\u001B[43m(\u001B[49m\u001B[43moutput\u001B[49m\u001B[43m)\u001B[49m\n",
      "File \u001B[1;32m~\\PycharmProjects\\GaddisPrograms\\.venv\\Lib\\site-packages\\joblib\\parallel.py:1650\u001B[0m, in \u001B[0;36mParallel._get_outputs\u001B[1;34m(self, iterator, pre_dispatch)\u001B[0m\n\u001B[0;32m   1647\u001B[0m     \u001B[38;5;28;01myield\u001B[39;00m\n\u001B[0;32m   1649\u001B[0m     \u001B[38;5;28;01mwith\u001B[39;00m \u001B[38;5;28mself\u001B[39m\u001B[38;5;241m.\u001B[39m_backend\u001B[38;5;241m.\u001B[39mretrieval_context():\n\u001B[1;32m-> 1650\u001B[0m         \u001B[38;5;28;01myield from\u001B[39;00m \u001B[38;5;28mself\u001B[39m\u001B[38;5;241m.\u001B[39m_retrieve()\n\u001B[0;32m   1652\u001B[0m \u001B[38;5;28;01mexcept\u001B[39;00m \u001B[38;5;167;01mGeneratorExit\u001B[39;00m:\n\u001B[0;32m   1653\u001B[0m     \u001B[38;5;66;03m# The generator has been garbage collected before being fully\u001B[39;00m\n\u001B[0;32m   1654\u001B[0m     \u001B[38;5;66;03m# consumed. This aborts the remaining tasks if possible and warn\u001B[39;00m\n\u001B[0;32m   1655\u001B[0m     \u001B[38;5;66;03m# the user if necessary.\u001B[39;00m\n\u001B[0;32m   1656\u001B[0m     \u001B[38;5;28mself\u001B[39m\u001B[38;5;241m.\u001B[39m_exception \u001B[38;5;241m=\u001B[39m \u001B[38;5;28;01mTrue\u001B[39;00m\n",
      "File \u001B[1;32m~\\PycharmProjects\\GaddisPrograms\\.venv\\Lib\\site-packages\\joblib\\parallel.py:1762\u001B[0m, in \u001B[0;36mParallel._retrieve\u001B[1;34m(self)\u001B[0m\n\u001B[0;32m   1757\u001B[0m \u001B[38;5;66;03m# If the next job is not ready for retrieval yet, we just wait for\u001B[39;00m\n\u001B[0;32m   1758\u001B[0m \u001B[38;5;66;03m# async callbacks to progress.\u001B[39;00m\n\u001B[0;32m   1759\u001B[0m \u001B[38;5;28;01mif\u001B[39;00m ((\u001B[38;5;28mlen\u001B[39m(\u001B[38;5;28mself\u001B[39m\u001B[38;5;241m.\u001B[39m_jobs) \u001B[38;5;241m==\u001B[39m \u001B[38;5;241m0\u001B[39m) \u001B[38;5;129;01mor\u001B[39;00m\n\u001B[0;32m   1760\u001B[0m     (\u001B[38;5;28mself\u001B[39m\u001B[38;5;241m.\u001B[39m_jobs[\u001B[38;5;241m0\u001B[39m]\u001B[38;5;241m.\u001B[39mget_status(\n\u001B[0;32m   1761\u001B[0m         timeout\u001B[38;5;241m=\u001B[39m\u001B[38;5;28mself\u001B[39m\u001B[38;5;241m.\u001B[39mtimeout) \u001B[38;5;241m==\u001B[39m TASK_PENDING)):\n\u001B[1;32m-> 1762\u001B[0m     \u001B[43mtime\u001B[49m\u001B[38;5;241;43m.\u001B[39;49m\u001B[43msleep\u001B[49m\u001B[43m(\u001B[49m\u001B[38;5;241;43m0.01\u001B[39;49m\u001B[43m)\u001B[49m\n\u001B[0;32m   1763\u001B[0m     \u001B[38;5;28;01mcontinue\u001B[39;00m\n\u001B[0;32m   1765\u001B[0m \u001B[38;5;66;03m# We need to be careful: the job list can be filling up as\u001B[39;00m\n\u001B[0;32m   1766\u001B[0m \u001B[38;5;66;03m# we empty it and Python list are not thread-safe by\u001B[39;00m\n\u001B[0;32m   1767\u001B[0m \u001B[38;5;66;03m# default hence the use of the lock\u001B[39;00m\n",
      "\u001B[1;31mKeyboardInterrupt\u001B[0m: "
     ]
    }
   ],
   "execution_count": 12
  },
  {
   "metadata": {},
   "cell_type": "markdown",
   "source": [
    "## Step 4 – Threshold Optimization Based on Cost\n",
    "\n",
    "In this step, we determine the optimal classification threshold by minimizing the total business cost, considering:\n",
    "\n",
    "- **False Positives (FP)** are 5× more expensive than False Negatives (FN)\n",
    "- Therefore, Total Cost = `FP × 5 + FN`\n",
    "\n",
    "We evaluate nearly 2,000 thresholds (from 0.01 to 0.999 in steps of 0.0005) on the validation set. For each threshold, we calculate:\n",
    "\n",
    "- The confusion matrix values (TP, FP, FN, TN)\n",
    "- Total cost\n",
    "- Key evaluation metrics: Accuracy, Precision, Recall, F1-score, ROC AUC, and MCC\n",
    "\n",
    "We select the threshold with the lowest total cost and visualize both the cost curve and the corresponding confusion matrix.\n"
   ],
   "id": "b746b0b28e40c907"
  },
  {
   "metadata": {
    "ExecuteTime": {
     "end_time": "2025-05-23T22:09:30.391476Z",
     "start_time": "2025-05-23T22:09:30.360112Z"
    }
   },
   "cell_type": "code",
   "source": [
    "import numpy as np\n",
    "import pandas as pd\n",
    "import matplotlib.pyplot as plt\n",
    "from sklearn.metrics import (\n",
    "    confusion_matrix, accuracy_score, precision_score, recall_score,\n",
    "    f1_score, roc_auc_score, matthews_corrcoef, ConfusionMatrixDisplay\n",
    ")\n",
    "\n",
    "# Function to evaluate metrics and cost for a given threshold\n",
    "def evaluate_threshold(y_true, y_proba, threshold, fp_cost=5, fn_cost=1):\n",
    "    y_pred = (y_proba >= threshold).astype(int)\n",
    "    tn, fp, fn, tp = confusion_matrix(y_true, y_pred).ravel()\n",
    "    total_cost = fp * fp_cost + fn * fn_cost\n",
    "    return {\n",
    "        \"Threshold\": threshold,\n",
    "        \"TP\": tp, \"FP\": fp, \"FN\": fn, \"TN\": tn,\n",
    "        \"Total Cost\": total_cost,\n",
    "        \"Accuracy\": accuracy_score(y_true, y_pred),\n",
    "        \"Precision\": precision_score(y_true, y_pred, zero_division=0),\n",
    "        \"Recall\": recall_score(y_true, y_pred, zero_division=0),\n",
    "        \"F1\": f1_score(y_true, y_pred, zero_division=0),\n",
    "        \"ROC AUC\": roc_auc_score(y_true, y_pred),\n",
    "        \"MCC\": matthews_corrcoef(y_true, y_pred)\n",
    "    }\n",
    "\n",
    "# Get predicted probabilities from the best model\n",
    "y_val_proba = best_rf.predict_proba(X_val)[:, 1]\n",
    "\n",
    "# Evaluate many thresholds\n",
    "thresholds = np.round(np.arange(0.01, 0.9995, 0.0005), 4)\n",
    "results = [evaluate_threshold(y_val, y_val_proba, t) for t in thresholds]\n",
    "results_df = pd.DataFrame(results)\n",
    "\n",
    "# Find the threshold with the lowest cost\n",
    "best_result = results_df.loc[results_df['Total Cost'].idxmin()]\n",
    "best_threshold = best_result['Threshold']\n",
    "print(\"Best Threshold (Validation):\", best_threshold)\n",
    "print(\"Minimum Cost (Validation):\", best_result['Total Cost'])\n",
    "print(best_result)\n",
    "\n",
    "# Confusion matrix at best threshold\n",
    "y_val_pred_best = (y_val_proba >= best_threshold).astype(int)\n",
    "cm = confusion_matrix(y_val, y_val_pred_best)\n",
    "disp = ConfusionMatrixDisplay(confusion_matrix=cm, display_labels=[\"No Fraud\", \"Fraud\"])\n",
    "plt.figure(figsize=(6, 6))\n",
    "disp.plot(cmap=\"Blues\", values_format='d', ax=plt.gca())\n",
    "plt.title(f\"Confusion Matrix (Validation) @ Best Threshold = {best_threshold:.2f}\")\n",
    "plt.grid(False)\n",
    "plt.show()\n",
    "\n",
    "# Plot threshold vs total cost\n",
    "plt.figure(figsize=(10, 6))\n",
    "plt.plot(results_df['Threshold'], results_df['Total Cost'], linewidth=2, label='Total Cost (FP×5 + FN)')\n",
    "plt.axvline(x=best_threshold, color='red', linestyle='--', label=f'Best Threshold = {best_threshold:.3f}')\n",
    "plt.scatter(best_threshold, best_result['Total Cost'], color='red', zorder=5)\n",
    "plt.xlabel(\"Threshold\")\n",
    "plt.ylabel(\"Total Cost\")\n",
    "plt.title(\"Threshold vs. Total Cost (Validation Set)\")\n",
    "plt.grid(True)\n",
    "plt.legend()\n",
    "plt.tight_layout()\n",
    "plt.show()"
   ],
   "id": "ab2f49a6546b55dc",
   "outputs": [
    {
     "ename": "NameError",
     "evalue": "name 'best_rf' is not defined",
     "output_type": "error",
     "traceback": [
      "\u001B[1;31m---------------------------------------------------------------------------\u001B[0m",
      "\u001B[1;31mNameError\u001B[0m                                 Traceback (most recent call last)",
      "Cell \u001B[1;32mIn[11], line 27\u001B[0m\n\u001B[0;32m     14\u001B[0m     \u001B[38;5;28;01mreturn\u001B[39;00m {\n\u001B[0;32m     15\u001B[0m         \u001B[38;5;124m\"\u001B[39m\u001B[38;5;124mThreshold\u001B[39m\u001B[38;5;124m\"\u001B[39m: threshold,\n\u001B[0;32m     16\u001B[0m         \u001B[38;5;124m\"\u001B[39m\u001B[38;5;124mTP\u001B[39m\u001B[38;5;124m\"\u001B[39m: tp, \u001B[38;5;124m\"\u001B[39m\u001B[38;5;124mFP\u001B[39m\u001B[38;5;124m\"\u001B[39m: fp, \u001B[38;5;124m\"\u001B[39m\u001B[38;5;124mFN\u001B[39m\u001B[38;5;124m\"\u001B[39m: fn, \u001B[38;5;124m\"\u001B[39m\u001B[38;5;124mTN\u001B[39m\u001B[38;5;124m\"\u001B[39m: tn,\n\u001B[1;32m   (...)\u001B[0m\n\u001B[0;32m     23\u001B[0m         \u001B[38;5;124m\"\u001B[39m\u001B[38;5;124mMCC\u001B[39m\u001B[38;5;124m\"\u001B[39m: matthews_corrcoef(y_true, y_pred)\n\u001B[0;32m     24\u001B[0m     }\n\u001B[0;32m     26\u001B[0m \u001B[38;5;66;03m# Get predicted probabilities from the best model\u001B[39;00m\n\u001B[1;32m---> 27\u001B[0m y_val_proba \u001B[38;5;241m=\u001B[39m \u001B[43mbest_rf\u001B[49m\u001B[38;5;241m.\u001B[39mpredict_proba(X_val)[:, \u001B[38;5;241m1\u001B[39m]\n\u001B[0;32m     29\u001B[0m \u001B[38;5;66;03m# Evaluate many thresholds\u001B[39;00m\n\u001B[0;32m     30\u001B[0m thresholds \u001B[38;5;241m=\u001B[39m np\u001B[38;5;241m.\u001B[39mround(np\u001B[38;5;241m.\u001B[39marange(\u001B[38;5;241m0.01\u001B[39m, \u001B[38;5;241m0.9995\u001B[39m, \u001B[38;5;241m0.0005\u001B[39m), \u001B[38;5;241m4\u001B[39m)\n",
      "\u001B[1;31mNameError\u001B[0m: name 'best_rf' is not defined"
     ]
    }
   ],
   "execution_count": 11
  },
  {
   "metadata": {},
   "cell_type": "markdown",
   "source": [
    "## Step 5 – Save the Final Model and Optimal Threshold\n",
    "\n",
    "Once the best model and optimal threshold have been selected, we save them to disk for future use.\n",
    "\n",
    "- The trained `RandomForestClassifier` is saved as a `.pkl` file using `joblib`.\n",
    "- The optimal classification threshold is saved to a `.txt` file.\n",
    "\n",
    "This allows us to reuse the model and threshold later—e.g., in a deployment pipeline or when making predictions on new, unseen data.\n"
   ],
   "id": "b9ccdcf98f6ee9da"
  },
  {
   "metadata": {
    "ExecuteTime": {
     "end_time": "2025-05-23T15:16:08.100054Z",
     "start_time": "2025-05-23T15:16:07.959184Z"
    }
   },
   "cell_type": "code",
   "outputs": [],
   "execution_count": 7,
   "source": [
    "import joblib\n",
    "\n",
    "# Combine the model and threshold into a dictionary\n",
    "model_bundle = {\n",
    "    \"model\": best_rf,\n",
    "    \"threshold\": best_threshold\n",
    "}\n",
    "\n",
    "# Save to file\n",
    "joblib.dump(model_bundle, \"Models/final_random_forest_model.pkl\")\n",
    "print(\"Model and threshold saved to: final_random_forest_model.pkl\")\n"
   ],
   "id": "5b59fe7e0a3c016"
  },
  {
   "metadata": {},
   "cell_type": "markdown",
   "source": [
    "## Step 6 – Final Evaluation on the Test Set\n",
    "\n",
    "In this final step, we evaluate the model on the previously untouched test set using the saved best model and the optimized threshold.\n",
    "\n",
    "We calculate:\n",
    "- The confusion matrix and total business cost (`FP × 5 + FN`)\n",
    "- Key classification metrics: Accuracy, Precision, Recall, F1-score, ROC AUC, and Matthews Correlation Coefficient (MCC)\n",
    "- A visual confusion matrix for interpretability\n",
    "\n",
    "This evaluation represents a realistic estimate of how the model would perform on new, unseen data and verifies that the selected threshold generalizes well beyond the validation set.\n"
   ],
   "id": "b6f93c5df76a1b1f"
  },
  {
   "metadata": {
    "ExecuteTime": {
     "end_time": "2025-05-23T15:18:56.526164Z",
     "start_time": "2025-05-23T15:18:55.687122Z"
    }
   },
   "cell_type": "code",
   "outputs": [
    {
     "name": "stdout",
     "output_type": "stream",
     "text": [
      "=== Final Evaluation on Test Set ===\n",
      "Threshold used: 0.65\n",
      "Total cost: 564\n",
      "Confusion Matrix: TP=3230, FP=47, FN=329, TN=71102\n",
      "Accuracy: 0.9950\n",
      "Precision: 0.9857\n",
      "Recall: 0.9076\n",
      "F1 Score: 0.9450\n",
      "ROC-AUC: 0.9534\n",
      "MCC: 0.9432\n"
     ]
    },
    {
     "data": {
      "text/plain": [
       "<Figure size 600x600 with 2 Axes>"
      ],
      "image/png": "[encoded data removed]"
     },
     "metadata": {},
     "output_type": "display_data"
    }
   ],
   "execution_count": 11,
   "source": [
    "import joblib\n",
    "import numpy as np\n",
    "import matplotlib.pyplot as plt\n",
    "from sklearn.metrics import (\n",
    "    confusion_matrix, accuracy_score, precision_score, recall_score,\n",
    "    f1_score, roc_auc_score, matthews_corrcoef, ConfusionMatrixDisplay\n",
    ")\n",
    "\n",
    "# Load model and threshold\n",
    "model_bundle = joblib.load(\"Models/final_xgboost_model.pkl\")\n",
    "best_model = model_bundle[\"model\"]\n",
    "best_threshold = model_bundle[\"threshold\"]\n",
    "\n",
    "# Predict on test set\n",
    "y_test_proba = best_model.predict_proba(X_test)[:, 1]\n",
    "y_test_pred = (y_test_proba >= best_threshold).astype(int)\n",
    "\n",
    "# Confusion matrix and cost\n",
    "tn, fp, fn, tp = confusion_matrix(y_test, y_test_pred).ravel()\n",
    "total_cost = fp * 5 + fn\n",
    "\n",
    "# Metrics\n",
    "accuracy = accuracy_score(y_test, y_test_pred)\n",
    "precision = precision_score(y_test, y_test_pred, zero_division=0)\n",
    "recall = recall_score(y_test, y_test_pred, zero_division=0)\n",
    "f1 = f1_score(y_test, y_test_pred, zero_division=0)\n",
    "roc_auc = roc_auc_score(y_test, y_test_pred)\n",
    "mcc = matthews_corrcoef(y_test, y_test_pred)\n",
    "\n",
    "# Print summary\n",
    "print(\"=== Final Evaluation on Test Set ===\")\n",
    "print(f\"Threshold used: {best_threshold:.2f}\")\n",
    "print(f\"Total cost: {total_cost}\")\n",
    "print(f\"Confusion Matrix: TP={tp}, FP={fp}, FN={fn}, TN={tn}\")\n",
    "print(f\"Accuracy: {accuracy:.4f}\")\n",
    "print(f\"Precision: {precision:.4f}\")\n",
    "print(f\"Recall: {recall:.4f}\")\n",
    "print(f\"F1 Score: {f1:.4f}\")\n",
    "print(f\"ROC-AUC: {roc_auc:.4f}\")\n",
    "print(f\"MCC: {mcc:.4f}\")\n",
    "\n",
    "# Show confusion matrix\n",
    "cm = confusion_matrix(y_test, y_test_pred)\n",
    "disp = ConfusionMatrixDisplay(confusion_matrix=cm, display_labels=[\"No Fraud\", \"Fraud\"])\n",
    "plt.figure(figsize=(6, 6))\n",
    "disp.plot(cmap=\"Blues\", values_format='d', ax=plt.gca())\n",
    "plt.title(f\"Confusion Matrix (Test Set) @ Threshold = {best_threshold:.2f}\")\n",
    "plt.grid(False)\n",
    "plt.show()"
   ],
   "id": "4da343ed7b22f312"
  },
  {
   "metadata": {},
   "cell_type": "markdown",
   "source": [
    "## Step 7 – ROC Curve and AUC Evaluation\n",
    "\n",
    "To assess the model’s ability to distinguish between classes at various thresholds, we plot the **Receiver Operating Characteristic (ROC) curve** and compute the **Area Under the Curve (AUC)**.\n",
    "\n",
    "- The ROC curve shows the trade-off between the True Positive Rate (Recall) and the False Positive Rate.\n",
    "- The AUC value summarizes the model's overall ability to rank positive instances higher than negative ones.\n",
    "\n",
    "A value close to 1.0 indicates a strong classifier, while a value of 0.5 suggests no better than random guessing.\n"
   ],
   "id": "af76199e43d8c5ad"
  },
  {
   "metadata": {
    "ExecuteTime": {
     "end_time": "2025-05-23T16:55:43.029027Z",
     "start_time": "2025-05-23T16:55:41.761923Z"
    }
   },
   "cell_type": "code",
   "source": [
    "from sklearn.metrics import roc_curve, auc\n",
    "import matplotlib.pyplot as plt\n",
    "import joblib\n",
    "\n",
    "# Load the saved model (if not already loaded)\n",
    "loaded_model = joblib.load(\"final_random_forest_model.pkl\")\n",
    "\n",
    "# Get predicted probabilities for the positive class (fraud = 1)\n",
    "y_probs_rf = loaded_model.predict_proba(X_test)[:, 1]\n",
    "\n",
    "# Compute ROC curve and AUC\n",
    "fpr_rf, tpr_rf, _ = roc_curve(y_test, y_probs_rf)\n",
    "roc_auc_rf = auc(fpr_rf, tpr_rf)\n",
    "\n",
    "# Plot ROC curve\n",
    "plt.figure(figsize=(7, 5))\n",
    "plt.plot(fpr_rf, tpr_rf, label=f'Random Forest (AUC = {roc_auc_rf:.4f})')\n",
    "plt.plot([0, 1], [0, 1], linestyle='--', color='gray', label='Random Chance')\n",
    "plt.xlabel('False Positive Rate')\n",
    "plt.ylabel('True Positive Rate')\n",
    "plt.title('ROC Curve – Random Forest (Test Set)')\n",
    "plt.legend(loc='lower right')\n",
    "plt.grid(True)\n",
    "plt.tight_layout()\n",
    "plt.show()\n"
   ],
   "id": "f54edc4828634a6",
   "outputs": [
    {
     "data": {
      "text/plain": [
       "<Figure size 700x500 with 1 Axes>"
      ],
      "image/png": "[encoded data removed]"
     },
     "metadata": {},
     "output_type": "display_data"
    }
   ],
   "execution_count": 18
  },
  {
   "metadata": {},
   "cell_type": "markdown",
   "source": [
    "## Step 8 – Conclusion and Reflection\n",
    "\n",
    "In this project, a Random Forest classifier was developed to detect fraudulent transactions. The entire modeling pipeline was built according to the project specification, including hyperparameter tuning, cost-based threshold optimization, and final evaluation on a separate test set.\n",
    "\n",
    "### Key Results:\n",
    "- **Best threshold (cost-based):** `{best_threshold:.2f}`\n",
    "- **Test set cost (FP × 5 + FN):** `{total_cost}`\n",
    "- **F1-score (test set):** `{f1:.4f}`\n",
    "- **AUC (ROC):** `{roc_auc:.4f}`\n",
    "\n",
    "These results show that the Random Forest model performs well in identifying fraudulent transactions while minimizing costly false positives. The cost-driven threshold selection proved to be crucial, as using a default threshold (e.g. 0.5) would have led to significantly higher business costs.\n",
    "\n",
    "### Strengths of the Random Forest approach:\n",
    "- Handles imbalanced data effectively with `class_weight='balanced'`\n",
    "- Performs well without the need for extensive preprocessing\n",
    "- Robust to outliers and feature scale differences\n",
    "- Easy to interpret via feature importance and visualizations\n",
    "\n",
    "### Limitations and Considerations:\n",
    "- The model is not easily explainable at a granular decision level (black-box nature)\n",
    "- Training time and resource usage are higher compared to simpler models\n",
    "- May not generalize as well as boosting models like XGBoost in some edge cases\n",
    "\n",
    "### Final Thoughts:\n",
    "Overall, the Random Forest model is a strong and practical choice for fraud detection in this case. It balances complexity, interpretability, and performance well. Further improvements could include ensemble blending with other models or additional cost-sensitive training methods.\n"
   ],
   "id": "7f6165fb2ee22a1d"
  },
  {
   "metadata": {
    "ExecuteTime": {
     "end_time": "2025-05-23T18:15:07.889744Z",
     "start_time": "2025-05-23T18:15:07.303251Z"
    }
   },
   "cell_type": "code",
   "source": [
    "print(\"=== Key Results ===\")\n",
    "print(f\"Best threshold (validation set): {best_threshold:.4f}\")\n",
    "print(f\"Total cost on test set (FP × 5 + FN): {total_cost}\")\n",
    "print(f\"F1 Score (test set): {f1:.4f}\")\n",
    "print(f\"ROC AUC (test set): {roc_auc:.4f}\")\n"
   ],
   "id": "c0c726d13fc62a34",
   "outputs": [
    {
     "name": "stdout",
     "output_type": "stream",
     "text": [
      "=== Key Results ===\n"
     ]
    },
    {
     "ename": "NameError",
     "evalue": "name 'best_threshold' is not defined",
     "output_type": "error",
     "traceback": [
      "\u001B[1;31m---------------------------------------------------------------------------\u001B[0m",
      "\u001B[1;31mNameError\u001B[0m                                 Traceback (most recent call last)",
      "Cell \u001B[1;32mIn[1], line 2\u001B[0m\n\u001B[0;32m      1\u001B[0m \u001B[38;5;28mprint\u001B[39m(\u001B[38;5;124m\"\u001B[39m\u001B[38;5;124m=== Key Results ===\u001B[39m\u001B[38;5;124m\"\u001B[39m)\n\u001B[1;32m----> 2\u001B[0m \u001B[38;5;28mprint\u001B[39m(\u001B[38;5;124mf\u001B[39m\u001B[38;5;124m\"\u001B[39m\u001B[38;5;124mBest threshold (validation set): \u001B[39m\u001B[38;5;132;01m{\u001B[39;00m\u001B[43mbest_threshold\u001B[49m\u001B[38;5;132;01m:\u001B[39;00m\u001B[38;5;124m.4f\u001B[39m\u001B[38;5;132;01m}\u001B[39;00m\u001B[38;5;124m\"\u001B[39m)\n\u001B[0;32m      3\u001B[0m \u001B[38;5;28mprint\u001B[39m(\u001B[38;5;124mf\u001B[39m\u001B[38;5;124m\"\u001B[39m\u001B[38;5;124mTotal cost on test set (FP × 5 + FN): \u001B[39m\u001B[38;5;132;01m{\u001B[39;00mtotal_cost\u001B[38;5;132;01m}\u001B[39;00m\u001B[38;5;124m\"\u001B[39m)\n\u001B[0;32m      4\u001B[0m \u001B[38;5;28mprint\u001B[39m(\u001B[38;5;124mf\u001B[39m\u001B[38;5;124m\"\u001B[39m\u001B[38;5;124mF1 Score (test set): \u001B[39m\u001B[38;5;132;01m{\u001B[39;00mf1\u001B[38;5;132;01m:\u001B[39;00m\u001B[38;5;124m.4f\u001B[39m\u001B[38;5;132;01m}\u001B[39;00m\u001B[38;5;124m\"\u001B[39m)\n",
      "\u001B[1;31mNameError\u001B[0m: name 'best_threshold' is not defined"
     ]
    }
   ],
   "execution_count": 1
  }
 ],
 "metadata": {
  "kernelspec": {
   "display_name": "Python 3",
   "language": "python",
   "name": "python3"
  },
  "language_info": {
   "codemirror_mode": {
    "name": "ipython",
    "version": 2
   },
   "file_extension": ".py",
   "mimetype": "text/x-python",
   "name": "python",
   "nbconvert_exporter": "python",
   "pygments_lexer": "ipython2",
   "version": "2.7.6"
  }
 },
 "nbformat": 4,
 "nbformat_minor": 5
}
