{
 "cells": [
  {
   "cell_type": "markdown",
   "id": "2d5741d9",
   "metadata": {},
   "source": [
    "# Neural Network for Fraud Detection\n",
    "\n",
    "Cost-sensitive training with threshold optimization\n",
    "\n",
    "This notebook covers loading data, preprocessing, model building, training, cost-sensitive weighting, threshold optimization, evaluation metrics, confusion matrix, and exporting the model."
   ]
  },
  {
   "cell_type": "code",
   "id": "d99566e0",
   "metadata": {
    "ExecuteTime": {
     "end_time": "2025-05-23T10:23:40.781489Z",
     "start_time": "2025-05-23T10:23:40.766478Z"
    }
   },
   "source": [
    "# Imports and setup\n",
    "import pandas as pd\n",
    "import numpy as np\n",
    "import tensorflow as tf\n",
    "import matplotlib.pyplot as plt\n",
    "\n",
    "from sklearn.model_selection import train_test_split\n",
    "from sklearn.preprocessing import StandardScaler\n",
    "from sklearn.metrics import (\n",
    "    confusion_matrix,\n",
    "    ConfusionMatrixDisplay,\n",
    "    precision_recall_curve,\n",
    "    accuracy_score,\n",
    "    precision_score,\n",
    "    recall_score,\n",
    "    f1_score,\n",
    "    roc_auc_score,\n",
    "    matthews_corrcoef\n",
    ")"
   ],
   "outputs": [],
   "execution_count": 39
  },
  {
   "cell_type": "code",
   "id": "7b1b3097",
   "metadata": {
    "ExecuteTime": {
     "end_time": "2025-05-23T10:23:42.593949Z",
     "start_time": "2025-05-23T10:23:42.255685Z"
    }
   },
   "source": [
    "# Load the dataset and display its shape and head data\n",
    "path = '../Data/Fraud_Cleaned.csv'\n",
    "df = pd.read_csv(path)\n",
    "print(f\"Loaded data with shape: {df.shape}\")\n",
    "df.head()"
   ],
   "outputs": [
    {
     "name": "stdout",
     "output_type": "stream",
     "text": [
      "Loaded data with shape: (498050, 10)\n"
     ]
    },
    {
     "data": {
      "text/plain": [
       "   trustLevel  totalScanTimeInSeconds  grandTotal  lineItemVoids  \\\n",
       "0           4                     467       88.48              4   \n",
       "1           3                    1004       58.99              7   \n",
       "2           1                     162       14.00              4   \n",
       "3           5                     532       84.79              9   \n",
       "4           5                     890       42.16              4   \n",
       "\n",
       "   scansWithoutRegistration  quantityModification  scannedLineItemsPerSecond  \\\n",
       "0                         8                     4                   0.014989   \n",
       "1                         6                     1                   0.026892   \n",
       "2                         5                     4                   0.006173   \n",
       "3                         3                     4                   0.026316   \n",
       "4                         0                     0                   0.021348   \n",
       "\n",
       "   valuePerSecond  lineItemVoidsPerPosition  fraud  \n",
       "0        0.189465                  0.571429      0  \n",
       "1        0.058755                  0.259259      0  \n",
       "2        0.086420                  4.000000      0  \n",
       "3        0.159380                  0.642857      0  \n",
       "4        0.047371                  0.210526      0  "
      ],
      "text/html": [
       "<div>\n",
       "<style scoped>\n",
       "    .dataframe tbody tr th:only-of-type {\n",
       "        vertical-align: middle;\n",
       "    }\n",
       "\n",
       "    .dataframe tbody tr th {\n",
       "        vertical-align: top;\n",
       "    }\n",
       "\n",
       "    .dataframe thead th {\n",
       "        text-align: right;\n",
       "    }\n",
       "</style>\n",
       "<table border=\"1\" class=\"dataframe\">\n",
       "  <thead>\n",
       "    <tr style=\"text-align: right;\">\n",
       "      <th></th>\n",
       "      <th>trustLevel</th>\n",
       "      <th>totalScanTimeInSeconds</th>\n",
       "      <th>grandTotal</th>\n",
       "      <th>lineItemVoids</th>\n",
       "      <th>scansWithoutRegistration</th>\n",
       "      <th>quantityModification</th>\n",
       "      <th>scannedLineItemsPerSecond</th>\n",
       "      <th>valuePerSecond</th>\n",
       "      <th>lineItemVoidsPerPosition</th>\n",
       "      <th>fraud</th>\n",
       "    </tr>\n",
       "  </thead>\n",
       "  <tbody>\n",
       "    <tr>\n",
       "      <th>0</th>\n",
       "      <td>4</td>\n",
       "      <td>467</td>\n",
       "      <td>88.48</td>\n",
       "      <td>4</td>\n",
       "      <td>8</td>\n",
       "      <td>4</td>\n",
       "      <td>0.014989</td>\n",
       "      <td>0.189465</td>\n",
       "      <td>0.571429</td>\n",
       "      <td>0</td>\n",
       "    </tr>\n",
       "    <tr>\n",
       "      <th>1</th>\n",
       "      <td>3</td>\n",
       "      <td>1004</td>\n",
       "      <td>58.99</td>\n",
       "      <td>7</td>\n",
       "      <td>6</td>\n",
       "      <td>1</td>\n",
       "      <td>0.026892</td>\n",
       "      <td>0.058755</td>\n",
       "      <td>0.259259</td>\n",
       "      <td>0</td>\n",
       "    </tr>\n",
       "    <tr>\n",
       "      <th>2</th>\n",
       "      <td>1</td>\n",
       "      <td>162</td>\n",
       "      <td>14.00</td>\n",
       "      <td>4</td>\n",
       "      <td>5</td>\n",
       "      <td>4</td>\n",
       "      <td>0.006173</td>\n",
       "      <td>0.086420</td>\n",
       "      <td>4.000000</td>\n",
       "      <td>0</td>\n",
       "    </tr>\n",
       "    <tr>\n",
       "      <th>3</th>\n",
       "      <td>5</td>\n",
       "      <td>532</td>\n",
       "      <td>84.79</td>\n",
       "      <td>9</td>\n",
       "      <td>3</td>\n",
       "      <td>4</td>\n",
       "      <td>0.026316</td>\n",
       "      <td>0.159380</td>\n",
       "      <td>0.642857</td>\n",
       "      <td>0</td>\n",
       "    </tr>\n",
       "    <tr>\n",
       "      <th>4</th>\n",
       "      <td>5</td>\n",
       "      <td>890</td>\n",
       "      <td>42.16</td>\n",
       "      <td>4</td>\n",
       "      <td>0</td>\n",
       "      <td>0</td>\n",
       "      <td>0.021348</td>\n",
       "      <td>0.047371</td>\n",
       "      <td>0.210526</td>\n",
       "      <td>0</td>\n",
       "    </tr>\n",
       "  </tbody>\n",
       "</table>\n",
       "</div>"
      ]
     },
     "execution_count": 40,
     "metadata": {},
     "output_type": "execute_result"
    }
   ],
   "execution_count": 40
  },
  {
   "cell_type": "code",
   "id": "e373e84e",
   "metadata": {
    "ExecuteTime": {
     "end_time": "2025-05-23T10:23:44.378219Z",
     "start_time": "2025-05-23T10:23:44.346976Z"
    }
   },
   "source": [
    "# Print the Dataset fraud distribution\n",
    "print(\"Fraud proportion:\")\n",
    "print(df['fraud'].value_counts(normalize=True))"
   ],
   "outputs": [
    {
     "name": "stdout",
     "output_type": "stream",
     "text": [
      "Fraud proportion:\n",
      "fraud\n",
      "0    0.952366\n",
      "1    0.047634\n",
      "Name: proportion, dtype: float64\n"
     ]
    }
   ],
   "execution_count": 41
  },
  {
   "cell_type": "code",
   "id": "b7664bdc",
   "metadata": {
    "ExecuteTime": {
     "end_time": "2025-05-23T10:23:47.128051Z",
     "start_time": "2025-05-23T10:23:46.812812Z"
    }
   },
   "source": [
    "# Splits the data set in to a Training set (70%), Validation set (15%) and Test set (15%). For NN features are scaled. The random state 42 ensure that all models are trained and evaluated on the same data.\n",
    "X = df.drop('fraud', axis=1)\n",
    "y = df['fraud']\n",
    "\n",
    "X_train, X_tmp, y_train, y_tmp = train_test_split(\n",
    "    X, y, test_size=0.3, stratify=y, random_state=42\n",
    ")\n",
    "X_val, X_test, y_val, y_test = train_test_split(\n",
    "    X_tmp, y_tmp, test_size=0.5, stratify=y_tmp, random_state=42\n",
    ")\n",
    "\n",
    "scaler = StandardScaler()\n",
    "X_train_scaled = scaler.fit_transform(X_train)\n",
    "X_val_scaled = scaler.transform(X_val)\n",
    "X_test_scaled = scaler.transform(X_test)\n",
    "\n",
    "print(f\"Train: {X_train.shape}, Val: {X_val.shape}, Test: {X_test.shape}\")"
   ],
   "outputs": [
    {
     "name": "stdout",
     "output_type": "stream",
     "text": [
      "Train: (348635, 9), Val: (74707, 9), Test: (74708, 9)\n"
     ]
    }
   ],
   "execution_count": 42
  },
  {
   "cell_type": "code",
   "id": "c9c76a1b",
   "metadata": {
    "ExecuteTime": {
     "end_time": "2025-05-23T10:23:50.511914Z",
     "start_time": "2025-05-23T10:23:50.496273Z"
    }
   },
   "source": [
    "# Cost-sensitive class weights (FP cost = 5× FN cost)\n",
    "class_weights = {0: 5, 1: 1}\n",
    "print(f\"Class weights: {class_weights}\")"
   ],
   "outputs": [
    {
     "name": "stdout",
     "output_type": "stream",
     "text": [
      "Class weights: {0: 5, 1: 1}\n"
     ]
    }
   ],
   "execution_count": 43
  },
  {
   "cell_type": "code",
   "id": "7430a4b6",
   "metadata": {
    "ExecuteTime": {
     "end_time": "2025-05-23T10:23:53.986073Z",
     "start_time": "2025-05-23T10:23:53.875796Z"
    }
   },
   "source": [
    "# Building the model\n",
    "from tensorflow.keras.models import Sequential\n",
    "from tensorflow.keras.layers import Dense, Dropout\n",
    "\n",
    "model = Sequential([\n",
    "    Dense(64, activation='relu', input_shape=(X_train_scaled.shape[1],)),\n",
    "    Dropout(0.3),\n",
    "    Dense(32, activation='relu'),\n",
    "    Dropout(0.3),\n",
    "    Dense(16, activation='relu'),\n",
    "    Dense(1, activation='sigmoid'),\n",
    "])\n",
    "\n",
    "model.compile(\n",
    "    optimizer=tf.keras.optimizers.Adam(1e-3),\n",
    "    loss='binary_crossentropy',\n",
    "    metrics=[tf.keras.metrics.AUC(name='auc')]\n",
    ")\n",
    "model.summary()"
   ],
   "outputs": [
    {
     "name": "stdout",
     "output_type": "stream",
     "text": [
      "Model: \"sequential_3\"\n",
      "_________________________________________________________________\n",
      " Layer (type)                Output Shape              Param #   \n",
      "=================================================================\n",
      " dense_12 (Dense)            (None, 64)                640       \n",
      "                                                                 \n",
      " dropout_6 (Dropout)         (None, 64)                0         \n",
      "                                                                 \n",
      " dense_13 (Dense)            (None, 32)                2080      \n",
      "                                                                 \n",
      " dropout_7 (Dropout)         (None, 32)                0         \n",
      "                                                                 \n",
      " dense_14 (Dense)            (None, 16)                528       \n",
      "                                                                 \n",
      " dense_15 (Dense)            (None, 1)                 17        \n",
      "                                                                 \n",
      "=================================================================\n",
      "Total params: 3,265\n",
      "Trainable params: 3,265\n",
      "Non-trainable params: 0\n",
      "_________________________________________________________________\n"
     ]
    }
   ],
   "execution_count": 44
  },
  {
   "cell_type": "code",
   "id": "dfa62873",
   "metadata": {
    "ExecuteTime": {
     "end_time": "2025-05-23T10:35:14.063730Z",
     "start_time": "2025-05-23T10:23:58.685631Z"
    }
   },
   "source": [
    "# Train the model with early stopping\n",
    "callbacks = [\n",
    "    tf.keras.callbacks.EarlyStopping(\n",
    "        monitor='val_auc', patience=10, mode='max', restore_best_weights=True\n",
    "    )\n",
    "]\n",
    "\n",
    "history = model.fit(\n",
    "    X_train_scaled,\n",
    "    y_train,\n",
    "    validation_data=(X_val_scaled, y_val),\n",
    "    epochs=100,\n",
    "    batch_size=64,\n",
    "    class_weight=class_weights,\n",
    "    callbacks=callbacks,\n",
    ")"
   ],
   "outputs": [
    {
     "name": "stdout",
     "output_type": "stream",
     "text": [
      "Epoch 1/100\n",
      "5448/5448 [==============================] - 14s 2ms/step - loss: 0.1359 - auc: 0.9627 - val_loss: 0.0426 - val_auc: 0.9957\n",
      "Epoch 2/100\n",
      "5448/5448 [==============================] - 11s 2ms/step - loss: 0.0725 - auc: 0.9915 - val_loss: 0.0384 - val_auc: 0.9975\n",
      "Epoch 3/100\n",
      "5448/5448 [==============================] - 11s 2ms/step - loss: 0.0666 - auc: 0.9926 - val_loss: 0.0363 - val_auc: 0.9978\n",
      "Epoch 4/100\n",
      "5448/5448 [==============================] - 11s 2ms/step - loss: 0.0648 - auc: 0.9926 - val_loss: 0.0355 - val_auc: 0.9981\n",
      "Epoch 5/100\n",
      "5448/5448 [==============================] - 12s 2ms/step - loss: 0.0635 - auc: 0.9928 - val_loss: 0.0404 - val_auc: 0.9967\n",
      "Epoch 6/100\n",
      "5448/5448 [==============================] - 13s 2ms/step - loss: 0.0627 - auc: 0.9931 - val_loss: 0.0488 - val_auc: 0.9965\n",
      "Epoch 7/100\n",
      "5448/5448 [==============================] - 12s 2ms/step - loss: 0.0621 - auc: 0.9936 - val_loss: 0.0337 - val_auc: 0.9973\n",
      "Epoch 8/100\n",
      "5448/5448 [==============================] - 13s 2ms/step - loss: 0.0612 - auc: 0.9935 - val_loss: 0.0342 - val_auc: 0.9977\n",
      "Epoch 9/100\n",
      "5448/5448 [==============================] - 17s 3ms/step - loss: 0.0605 - auc: 0.9938 - val_loss: 0.0369 - val_auc: 0.9977\n",
      "Epoch 10/100\n",
      "5448/5448 [==============================] - 17s 3ms/step - loss: 0.0585 - auc: 0.9937 - val_loss: 0.0284 - val_auc: 0.9981\n",
      "Epoch 11/100\n",
      "5448/5448 [==============================] - 16s 3ms/step - loss: 0.0587 - auc: 0.9936 - val_loss: 0.0343 - val_auc: 0.9981\n",
      "Epoch 12/100\n",
      "5448/5448 [==============================] - 16s 3ms/step - loss: 0.0572 - auc: 0.9941 - val_loss: 0.0360 - val_auc: 0.9975\n",
      "Epoch 13/100\n",
      "5448/5448 [==============================] - 18s 3ms/step - loss: 0.0567 - auc: 0.9941 - val_loss: 0.0276 - val_auc: 0.9985\n",
      "Epoch 14/100\n",
      "5448/5448 [==============================] - 16s 3ms/step - loss: 0.0570 - auc: 0.9940 - val_loss: 0.0294 - val_auc: 0.9976\n",
      "Epoch 15/100\n",
      "5448/5448 [==============================] - 16s 3ms/step - loss: 0.0558 - auc: 0.9945 - val_loss: 0.0269 - val_auc: 0.9985\n",
      "Epoch 16/100\n",
      "5448/5448 [==============================] - 17s 3ms/step - loss: 0.0560 - auc: 0.9941 - val_loss: 0.0342 - val_auc: 0.9983\n",
      "Epoch 17/100\n",
      "5448/5448 [==============================] - 16s 3ms/step - loss: 0.0547 - auc: 0.9943 - val_loss: 0.0310 - val_auc: 0.9978\n",
      "Epoch 18/100\n",
      "5448/5448 [==============================] - 13s 2ms/step - loss: 0.0556 - auc: 0.9943 - val_loss: 0.0301 - val_auc: 0.9983\n",
      "Epoch 19/100\n",
      "5448/5448 [==============================] - 14s 3ms/step - loss: 0.0543 - auc: 0.9946 - val_loss: 0.0335 - val_auc: 0.9981\n",
      "Epoch 20/100\n",
      "5448/5448 [==============================] - 14s 3ms/step - loss: 0.0540 - auc: 0.9944 - val_loss: 0.0315 - val_auc: 0.9987\n",
      "Epoch 21/100\n",
      "5448/5448 [==============================] - 14s 3ms/step - loss: 0.0530 - auc: 0.9947 - val_loss: 0.0309 - val_auc: 0.9979\n",
      "Epoch 22/100\n",
      "5448/5448 [==============================] - 14s 3ms/step - loss: 0.0528 - auc: 0.9945 - val_loss: 0.0259 - val_auc: 0.9983\n",
      "Epoch 23/100\n",
      "5448/5448 [==============================] - 14s 3ms/step - loss: 0.0527 - auc: 0.9946 - val_loss: 0.0345 - val_auc: 0.9974\n",
      "Epoch 24/100\n",
      "5448/5448 [==============================] - 14s 3ms/step - loss: 0.0519 - auc: 0.9946 - val_loss: 0.0437 - val_auc: 0.9968\n",
      "Epoch 25/100\n",
      "5448/5448 [==============================] - 14s 3ms/step - loss: 0.0517 - auc: 0.9952 - val_loss: 0.0261 - val_auc: 0.9987\n",
      "Epoch 26/100\n",
      "5448/5448 [==============================] - 14s 3ms/step - loss: 0.0512 - auc: 0.9951 - val_loss: 0.0348 - val_auc: 0.9976\n",
      "Epoch 27/100\n",
      "5448/5448 [==============================] - 14s 3ms/step - loss: 0.0515 - auc: 0.9953 - val_loss: 0.0242 - val_auc: 0.9980\n",
      "Epoch 28/100\n",
      "5448/5448 [==============================] - 14s 3ms/step - loss: 0.0513 - auc: 0.9955 - val_loss: 0.0252 - val_auc: 0.9988\n",
      "Epoch 29/100\n",
      "5448/5448 [==============================] - 14s 3ms/step - loss: 0.0514 - auc: 0.9956 - val_loss: 0.0251 - val_auc: 0.9980\n",
      "Epoch 30/100\n",
      "5448/5448 [==============================] - 14s 3ms/step - loss: 0.0510 - auc: 0.9949 - val_loss: 0.0224 - val_auc: 0.9984\n",
      "Epoch 31/100\n",
      "5448/5448 [==============================] - 14s 3ms/step - loss: 0.0510 - auc: 0.9952 - val_loss: 0.0308 - val_auc: 0.9985\n",
      "Epoch 32/100\n",
      "5448/5448 [==============================] - 14s 3ms/step - loss: 0.0509 - auc: 0.9953 - val_loss: 0.0259 - val_auc: 0.9987\n",
      "Epoch 33/100\n",
      "5448/5448 [==============================] - 14s 3ms/step - loss: 0.0505 - auc: 0.9954 - val_loss: 0.0308 - val_auc: 0.9986\n",
      "Epoch 34/100\n",
      "5448/5448 [==============================] - 14s 3ms/step - loss: 0.0499 - auc: 0.9953 - val_loss: 0.0274 - val_auc: 0.9986\n",
      "Epoch 35/100\n",
      "5448/5448 [==============================] - 14s 3ms/step - loss: 0.0492 - auc: 0.9955 - val_loss: 0.0277 - val_auc: 0.9988\n",
      "Epoch 36/100\n",
      "5448/5448 [==============================] - 14s 3ms/step - loss: 0.0494 - auc: 0.9955 - val_loss: 0.0321 - val_auc: 0.9972\n",
      "Epoch 37/100\n",
      "5448/5448 [==============================] - 13s 2ms/step - loss: 0.0496 - auc: 0.9958 - val_loss: 0.0241 - val_auc: 0.9986\n",
      "Epoch 38/100\n",
      "5448/5448 [==============================] - 14s 3ms/step - loss: 0.0497 - auc: 0.9954 - val_loss: 0.0314 - val_auc: 0.9990\n",
      "Epoch 39/100\n",
      "5448/5448 [==============================] - 14s 2ms/step - loss: 0.0488 - auc: 0.9956 - val_loss: 0.0345 - val_auc: 0.9978\n",
      "Epoch 40/100\n",
      "5448/5448 [==============================] - 13s 2ms/step - loss: 0.0492 - auc: 0.9957 - val_loss: 0.0257 - val_auc: 0.9989\n",
      "Epoch 41/100\n",
      "5448/5448 [==============================] - 13s 2ms/step - loss: 0.0484 - auc: 0.9956 - val_loss: 0.0234 - val_auc: 0.9988\n",
      "Epoch 42/100\n",
      "5448/5448 [==============================] - 13s 2ms/step - loss: 0.0490 - auc: 0.9955 - val_loss: 0.0263 - val_auc: 0.9986\n",
      "Epoch 43/100\n",
      "5448/5448 [==============================] - 13s 2ms/step - loss: 0.0480 - auc: 0.9957 - val_loss: 0.0358 - val_auc: 0.9983\n",
      "Epoch 44/100\n",
      "5448/5448 [==============================] - 13s 2ms/step - loss: 0.0483 - auc: 0.9956 - val_loss: 0.0229 - val_auc: 0.9983\n",
      "Epoch 45/100\n",
      "5448/5448 [==============================] - 13s 2ms/step - loss: 0.0486 - auc: 0.9957 - val_loss: 0.0274 - val_auc: 0.9984\n",
      "Epoch 46/100\n",
      "5448/5448 [==============================] - 13s 2ms/step - loss: 0.0491 - auc: 0.9958 - val_loss: 0.0280 - val_auc: 0.9988\n",
      "Epoch 47/100\n",
      "5448/5448 [==============================] - 14s 2ms/step - loss: 0.0478 - auc: 0.9959 - val_loss: 0.0247 - val_auc: 0.9986\n",
      "Epoch 48/100\n",
      "5448/5448 [==============================] - 13s 2ms/step - loss: 0.0477 - auc: 0.9958 - val_loss: 0.0262 - val_auc: 0.9989\n"
     ]
    }
   ],
   "execution_count": 45
  },
  {
   "cell_type": "code",
   "id": "aaded4ed",
   "metadata": {
    "ExecuteTime": {
     "end_time": "2025-05-23T11:15:22.551660Z",
     "start_time": "2025-05-23T11:15:22.316397Z"
    }
   },
   "source": [
    "# Plot AUC history\n",
    "plt.figure(figsize=(8, 5))\n",
    "plt.plot(history.history['auc'], label='Train AUC')\n",
    "plt.plot(history.history['val_auc'], label='Val AUC')\n",
    "plt.title('Training and Validation AUC')\n",
    "plt.xlabel('Epoch')\n",
    "plt.ylabel('AUC')\n",
    "plt.legend()\n",
    "plt.show()"
   ],
   "outputs": [
    {
     "data": {
      "text/plain": [
       "<Figure size 800x500 with 1 Axes>"
      ],
      "image/png": "[encoded data removed]"
     },
     "metadata": {},
     "output_type": "display_data"
    }
   ],
   "execution_count": 46
  },
  {
   "cell_type": "code",
   "id": "d0b7f9b4",
   "metadata": {
    "ExecuteTime": {
     "end_time": "2025-05-23T11:15:28.524064Z",
     "start_time": "2025-05-23T11:15:25.053057Z"
    }
   },
   "source": [
    "# Precision-Recall curve on validation set\n",
    "y_val_prob = model.predict(X_val_scaled).ravel()\n",
    "precision_vals, recall_vals, pr_thresholds = precision_recall_curve(y_val, y_val_prob)\n",
    "\n",
    "plt.figure(figsize=(6, 6))\n",
    "plt.plot(recall_vals, precision_vals)\n",
    "plt.title('Validation Precision-Recall Curve')\n",
    "plt.xlabel('Recall')\n",
    "plt.ylabel('Precision')\n",
    "plt.show()"
   ],
   "outputs": [
    {
     "name": "stdout",
     "output_type": "stream",
     "text": [
      "2335/2335 [==============================] - 2s 944us/step\n"
     ]
    },
    {
     "data": {
      "text/plain": [
       "<Figure size 600x600 with 1 Axes>"
      ],
      "image/png": "[encoded data removed]"
     },
     "metadata": {},
     "output_type": "display_data"
    }
   ],
   "execution_count": 47
  },
  {
   "cell_type": "code",
   "id": "26640714",
   "metadata": {
    "ExecuteTime": {
     "end_time": "2025-05-23T11:15:32.179627Z",
     "start_time": "2025-05-23T11:15:31.330239Z"
    }
   },
   "source": [
    "# Find cost-optimal threshold on validation set\n",
    "def calculate_cost(thresh, y_true, y_prob, fp_cost=5, fn_cost=1):\n",
    "    y_pred = (y_prob > thresh).astype(int)\n",
    "    tn, fp, fn, tp = confusion_matrix(y_true, y_pred).ravel()\n",
    "    return fp * fp_cost + fn * fn_cost\n",
    "\n",
    "thresholds = np.linspace(0, 1, 101)\n",
    "costs = [calculate_cost(t, y_val, y_val_prob) for t in thresholds]\n",
    "\n",
    "best_idx = np.argmin(costs)\n",
    "best_thresh = thresholds[best_idx]\n",
    "best_cost = costs[best_idx]\n",
    "print(f\"Best threshold = {best_thresh:.2f}, Cost = {best_cost}\")\n",
    "\n",
    "plt.figure(figsize=(6, 6))\n",
    "plt.plot(thresholds, costs, marker='o')\n",
    "plt.title('Validation Total Cost vs. Threshold')\n",
    "plt.xlabel('Threshold')\n",
    "plt.ylabel('Total Cost')\n",
    "plt.show()"
   ],
   "outputs": [
    {
     "name": "stdout",
     "output_type": "stream",
     "text": [
      "Best threshold = 0.35, Cost = 1077\n"
     ]
    },
    {
     "data": {
      "text/plain": [
       "<Figure size 600x600 with 1 Axes>"
      ],
      "image/png": "[encoded data removed]"
     },
     "metadata": {},
     "output_type": "display_data"
    }
   ],
   "execution_count": 48
  },
  {
   "cell_type": "code",
   "id": "6ec9fb63",
   "metadata": {
    "ExecuteTime": {
     "end_time": "2025-05-23T11:48:40.277022Z",
     "start_time": "2025-05-23T11:48:37.103090Z"
    }
   },
   "source": [
    "# Evaluate on test set using cost-optimal threshold\n",
    "print(f\"Using threshold = {best_thresh:.2f} for test evaluation\")\n",
    "\n",
    "y_test_prob = model.predict(X_test_scaled).ravel()\n",
    "y_test_pred = (y_test_prob > best_thresh).astype(int)\n",
    "\n",
    "# Confusion matrix (grayscale)\n",
    "cm = confusion_matrix(y_test, y_test_pred)\n",
    "disp = ConfusionMatrixDisplay(cm, display_labels=['Legit', 'Fraud'])\n",
    "fig, ax = plt.subplots(figsize=(6, 6))\n",
    "disp.plot(ax=ax, cmap='gray_r', colorbar=False)\n",
    "ax.set_title(f'Test Confusion Matrix @ thresh={best_thresh:.2f}')\n",
    "plt.show()"
   ],
   "outputs": [
    {
     "name": "stdout",
     "output_type": "stream",
     "text": [
      "Using threshold = 0.35 for test evaluation\n",
      "2335/2335 [==============================] - 2s 1ms/step\n"
     ]
    },
    {
     "data": {
      "text/plain": [
       "<Figure size 600x600 with 1 Axes>"
      ],
      "image/png": "[encoded data removed]"
     },
     "metadata": {},
     "output_type": "display_data"
    }
   ],
   "execution_count": 52
  },
  {
   "cell_type": "code",
   "id": "fff32680",
   "metadata": {
    "ExecuteTime": {
     "end_time": "2025-05-23T11:48:49.060555Z",
     "start_time": "2025-05-23T11:48:48.969525Z"
    }
   },
   "source": [
    "# Metrics table on test set\n",
    "metrics = {\n",
    "    'Accuracy': accuracy_score(y_test, y_test_pred),\n",
    "    'Precision': precision_score(y_test, y_test_pred),\n",
    "    'Recall': recall_score(y_test, y_test_pred),\n",
    "    'F1 Score': f1_score(y_test, y_test_pred),\n",
    "    'ROC AUC': roc_auc_score(y_test, y_test_prob),\n",
    "    'MCC': matthews_corrcoef(y_test, y_test_pred)\n",
    "}\n",
    "\n",
    "pd.DataFrame([metrics])"
   ],
   "outputs": [
    {
     "data": {
      "text/plain": [
       "   Accuracy  Precision    Recall  F1 Score   ROC AUC       MCC\n",
       "0  0.987123   0.978269  0.746277  0.846669  0.998856  0.848468"
      ],
      "text/html": [
       "<div>\n",
       "<style scoped>\n",
       "    .dataframe tbody tr th:only-of-type {\n",
       "        vertical-align: middle;\n",
       "    }\n",
       "\n",
       "    .dataframe tbody tr th {\n",
       "        vertical-align: top;\n",
       "    }\n",
       "\n",
       "    .dataframe thead th {\n",
       "        text-align: right;\n",
       "    }\n",
       "</style>\n",
       "<table border=\"1\" class=\"dataframe\">\n",
       "  <thead>\n",
       "    <tr style=\"text-align: right;\">\n",
       "      <th></th>\n",
       "      <th>Accuracy</th>\n",
       "      <th>Precision</th>\n",
       "      <th>Recall</th>\n",
       "      <th>F1 Score</th>\n",
       "      <th>ROC AUC</th>\n",
       "      <th>MCC</th>\n",
       "    </tr>\n",
       "  </thead>\n",
       "  <tbody>\n",
       "    <tr>\n",
       "      <th>0</th>\n",
       "      <td>0.987123</td>\n",
       "      <td>0.978269</td>\n",
       "      <td>0.746277</td>\n",
       "      <td>0.846669</td>\n",
       "      <td>0.998856</td>\n",
       "      <td>0.848468</td>\n",
       "    </tr>\n",
       "  </tbody>\n",
       "</table>\n",
       "</div>"
      ]
     },
     "execution_count": 53,
     "metadata": {},
     "output_type": "execute_result"
    }
   ],
   "execution_count": 53
  },
  {
   "cell_type": "code",
   "id": "039f37da",
   "metadata": {
    "ExecuteTime": {
     "end_time": "2025-05-23T11:48:51.148819Z",
     "start_time": "2025-05-23T11:48:51.117073Z"
    }
   },
   "source": [
    "# Export the trained model\n",
    "import os\n",
    "\n",
    "# save as HDF5\n",
    "export_path = '../Models/NeuralNetwork_Model.h5'\n",
    "model.save(export_path)\n",
    "print(f\"Model exported to {export_path}\")"
   ],
   "outputs": [
    {
     "name": "stdout",
     "output_type": "stream",
     "text": [
      "Model exported to ../Models/NeuralNetwork_Model.h5\n"
     ]
    }
   ],
   "execution_count": 54
  }
 ],
 "metadata": {
  "kernelspec": {
   "name": "python3",
   "language": "python",
   "display_name": "Python 3 (ipykernel)"
  }
 },
 "nbformat": 4,
 "nbformat_minor": 5
}
