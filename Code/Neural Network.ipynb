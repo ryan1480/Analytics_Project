{
 "cells": [
  {
   "metadata": {},
   "cell_type": "markdown",
   "source": [
    "## 1. Imports & Environment Setup\n",
    "\n",
    "In this section we load all Python libraries needed for data handling (`pandas`, `numpy`), visualization (`matplotlib`, `seaborn`), and model building (`tensorflow` / `keras`).\n",
    "\n",
    "This prepares our Python environment for the entire notebook."
   ],
   "id": "e6a89729112b2447"
  },
  {
   "cell_type": "code",
   "id": "d99566e0",
   "metadata": {
    "ExecuteTime": {
     "end_time": "2025-05-24T10:30:23.783186Z",
     "start_time": "2025-05-24T10:30:23.746448Z"
    }
   },
   "source": [
    "# Imports and setup\n",
    "import pandas as pd\n",
    "import numpy as np\n",
    "import tensorflow as tf\n",
    "import matplotlib.pyplot as plt\n",
    "from tensorflow.keras.optimizers import Adam\n",
    "from tensorflow.keras.metrics import AUC\n",
    "from tensorflow.keras.callbacks import EarlyStopping\n",
    "\n",
    "from sklearn.model_selection import train_test_split\n",
    "from sklearn.preprocessing import StandardScaler\n",
    "from sklearn.metrics import (\n",
    "    confusion_matrix,\n",
    "    ConfusionMatrixDisplay,\n",
    "    precision_recall_curve,\n",
    "    accuracy_score,\n",
    "    precision_score,\n",
    "    recall_score,\n",
    "    f1_score,\n",
    "    roc_auc_score,\n",
    "    matthews_corrcoef\n",
    ")"
   ],
   "outputs": [],
   "execution_count": 18
  },
  {
   "metadata": {},
   "cell_type": "markdown",
   "source": [
    "## 2. Dataset Loading & Initial Overview\n",
    "\n",
    "Here we:\n",
    "\n",
    "1. Read the **CSV** file into a `DataFrame`.\n",
    "2. Print its **shape** (rows × columns) to understand the data volume.\n",
    "3. Display the first few rows (`.head()`) to inspect column names, data types, and spot any glaring issues (e.g., missing values).\n",
    "\n",
    "This quick check guides our next steps in cleaning and exploration.\n"
   ],
   "id": "63e06d2022d16e11"
  },
  {
   "cell_type": "code",
   "id": "7b1b3097",
   "metadata": {
    "ExecuteTime": {
     "end_time": "2025-05-24T10:30:24.628676Z",
     "start_time": "2025-05-24T10:30:23.783186Z"
    }
   },
   "source": [
    "# Load the dataset and display its shape and head data\n",
    "path = '../Data/Fraud_Cleaned.csv'\n",
    "df = pd.read_csv(path)\n",
    "print(f\"Loaded data with shape: {df.shape}\")\n",
    "df.head()"
   ],
   "outputs": [
    {
     "name": "stdout",
     "output_type": "stream",
     "text": [
      "Loaded data with shape: (498050, 10)\n"
     ]
    },
    {
     "data": {
      "text/plain": [
       "   trustLevel  totalScanTimeInSeconds  grandTotal  lineItemVoids  \\\n",
       "0           4                     467       88.48              4   \n",
       "1           3                    1004       58.99              7   \n",
       "2           1                     162       14.00              4   \n",
       "3           5                     532       84.79              9   \n",
       "4           5                     890       42.16              4   \n",
       "\n",
       "   scansWithoutRegistration  quantityModification  scannedLineItemsPerSecond  \\\n",
       "0                         8                     4                   0.014989   \n",
       "1                         6                     1                   0.026892   \n",
       "2                         5                     4                   0.006173   \n",
       "3                         3                     4                   0.026316   \n",
       "4                         0                     0                   0.021348   \n",
       "\n",
       "   valuePerSecond  lineItemVoidsPerPosition  fraud  \n",
       "0        0.189465                  0.571429      0  \n",
       "1        0.058755                  0.259259      0  \n",
       "2        0.086420                  4.000000      0  \n",
       "3        0.159380                  0.642857      0  \n",
       "4        0.047371                  0.210526      0  "
      ],
      "text/html": [
       "<div>\n",
       "<style scoped>\n",
       "    .dataframe tbody tr th:only-of-type {\n",
       "        vertical-align: middle;\n",
       "    }\n",
       "\n",
       "    .dataframe tbody tr th {\n",
       "        vertical-align: top;\n",
       "    }\n",
       "\n",
       "    .dataframe thead th {\n",
       "        text-align: right;\n",
       "    }\n",
       "</style>\n",
       "<table border=\"1\" class=\"dataframe\">\n",
       "  <thead>\n",
       "    <tr style=\"text-align: right;\">\n",
       "      <th></th>\n",
       "      <th>trustLevel</th>\n",
       "      <th>totalScanTimeInSeconds</th>\n",
       "      <th>grandTotal</th>\n",
       "      <th>lineItemVoids</th>\n",
       "      <th>scansWithoutRegistration</th>\n",
       "      <th>quantityModification</th>\n",
       "      <th>scannedLineItemsPerSecond</th>\n",
       "      <th>valuePerSecond</th>\n",
       "      <th>lineItemVoidsPerPosition</th>\n",
       "      <th>fraud</th>\n",
       "    </tr>\n",
       "  </thead>\n",
       "  <tbody>\n",
       "    <tr>\n",
       "      <th>0</th>\n",
       "      <td>4</td>\n",
       "      <td>467</td>\n",
       "      <td>88.48</td>\n",
       "      <td>4</td>\n",
       "      <td>8</td>\n",
       "      <td>4</td>\n",
       "      <td>0.014989</td>\n",
       "      <td>0.189465</td>\n",
       "      <td>0.571429</td>\n",
       "      <td>0</td>\n",
       "    </tr>\n",
       "    <tr>\n",
       "      <th>1</th>\n",
       "      <td>3</td>\n",
       "      <td>1004</td>\n",
       "      <td>58.99</td>\n",
       "      <td>7</td>\n",
       "      <td>6</td>\n",
       "      <td>1</td>\n",
       "      <td>0.026892</td>\n",
       "      <td>0.058755</td>\n",
       "      <td>0.259259</td>\n",
       "      <td>0</td>\n",
       "    </tr>\n",
       "    <tr>\n",
       "      <th>2</th>\n",
       "      <td>1</td>\n",
       "      <td>162</td>\n",
       "      <td>14.00</td>\n",
       "      <td>4</td>\n",
       "      <td>5</td>\n",
       "      <td>4</td>\n",
       "      <td>0.006173</td>\n",
       "      <td>0.086420</td>\n",
       "      <td>4.000000</td>\n",
       "      <td>0</td>\n",
       "    </tr>\n",
       "    <tr>\n",
       "      <th>3</th>\n",
       "      <td>5</td>\n",
       "      <td>532</td>\n",
       "      <td>84.79</td>\n",
       "      <td>9</td>\n",
       "      <td>3</td>\n",
       "      <td>4</td>\n",
       "      <td>0.026316</td>\n",
       "      <td>0.159380</td>\n",
       "      <td>0.642857</td>\n",
       "      <td>0</td>\n",
       "    </tr>\n",
       "    <tr>\n",
       "      <th>4</th>\n",
       "      <td>5</td>\n",
       "      <td>890</td>\n",
       "      <td>42.16</td>\n",
       "      <td>4</td>\n",
       "      <td>0</td>\n",
       "      <td>0</td>\n",
       "      <td>0.021348</td>\n",
       "      <td>0.047371</td>\n",
       "      <td>0.210526</td>\n",
       "      <td>0</td>\n",
       "    </tr>\n",
       "  </tbody>\n",
       "</table>\n",
       "</div>"
      ]
     },
     "execution_count": 19,
     "metadata": {},
     "output_type": "execute_result"
    }
   ],
   "execution_count": 19
  },
  {
   "metadata": {},
   "cell_type": "markdown",
   "source": [
    "## 3. Target Distribution Analysis\n",
    "\n",
    "We examine the balance of our classes by calculating and displaying the count of **fraud** vs **non-fraud** transactions.\n"
   ],
   "id": "6a1480e6677b04"
  },
  {
   "cell_type": "code",
   "id": "e373e84e",
   "metadata": {
    "ExecuteTime": {
     "end_time": "2025-05-24T10:30:24.836270Z",
     "start_time": "2025-05-24T10:30:24.799151Z"
    }
   },
   "source": [
    "# Print the Dataset fraud distribution\n",
    "print(\"Fraud proportion:\")\n",
    "print(df['fraud'].value_counts(normalize=True))"
   ],
   "outputs": [
    {
     "name": "stdout",
     "output_type": "stream",
     "text": [
      "Fraud proportion:\n",
      "fraud\n",
      "0    0.952366\n",
      "1    0.047634\n",
      "Name: proportion, dtype: float64\n"
     ]
    }
   ],
   "execution_count": 20
  },
  {
   "metadata": {},
   "cell_type": "markdown",
   "source": [
    "## 4. Train / Validation / Test Split\n",
    "\n",
    "We partition the data to:\n",
    "\n",
    "- **Train set (70%)**: used to fit the model.\n",
    "- **Validation set (15%)**: used for hyperparameter tuning and early stopping.\n",
    "- **Test set (15%)**: reserved for final evaluation.\n",
    "\n",
    "Ensuring no data leakage between these sets guarantees a fair assessment of model generalization.\n"
   ],
   "id": "338614463c6e5193"
  },
  {
   "cell_type": "code",
   "id": "b7664bdc",
   "metadata": {
    "ExecuteTime": {
     "end_time": "2025-05-24T10:30:25.344826Z",
     "start_time": "2025-05-24T10:30:24.963657Z"
    }
   },
   "source": [
    "# Splitting of dataset and scaling for NN. Stratified splits ensure even distribution of fraud cases and a random state ensures reproducibility.\n",
    "X = df.drop('fraud', axis=1)\n",
    "y = df['fraud']\n",
    "\n",
    "X_train, X_tmp, y_train, y_tmp = train_test_split(\n",
    "    X, y, test_size=0.3, stratify=y, random_state=42\n",
    ")\n",
    "X_val, X_test, y_val, y_test = train_test_split(\n",
    "    X_tmp, y_tmp, test_size=0.5, stratify=y_tmp, random_state=42\n",
    ")\n",
    "\n",
    "scaler = StandardScaler()\n",
    "X_train_scaled = scaler.fit_transform(X_train)\n",
    "X_val_scaled = scaler.transform(X_val)\n",
    "X_test_scaled = scaler.transform(X_test)\n",
    "\n",
    "print(f\"Train: {X_train.shape}, Val: {X_val.shape}, Test: {X_test.shape}\")"
   ],
   "outputs": [
    {
     "name": "stdout",
     "output_type": "stream",
     "text": [
      "Train: (348635, 9), Val: (74707, 9), Test: (74708, 9)\n"
     ]
    }
   ],
   "execution_count": 21
  },
  {
   "metadata": {},
   "cell_type": "markdown",
   "source": [
    "## 5. Defining Cost-Sensitive Class Weights\n",
    "\n",
    "Because false positive (accused customers that did not engage in fraudulent transactions) are costlier than false positives:\n",
    "\n",
    "- We assign a higher weight to the minority class in the loss function.\n",
    "- Here, we set **FP cost = 5 × FN cost** to bias the model towards catching less fraud in order to prevent checking non-fraudulent customers.\n",
    "\n",
    "This guides the training algorithm to penalize misclassifying fraud more heavily.\n"
   ],
   "id": "5d2bfbe0f66da79d"
  },
  {
   "cell_type": "code",
   "id": "c9c76a1b",
   "metadata": {
    "ExecuteTime": {
     "end_time": "2025-05-24T10:30:25.422831Z",
     "start_time": "2025-05-24T10:30:25.407224Z"
    }
   },
   "source": [
    "# Cost-sensitive class weights (FP cost = 5× FN cost)\n",
    "class_weights = {0: 5, 1: 1}\n",
    "print(f\"Class weights: {class_weights}\")"
   ],
   "outputs": [
    {
     "name": "stdout",
     "output_type": "stream",
     "text": [
      "Class weights: {0: 5, 1: 1}\n"
     ]
    }
   ],
   "execution_count": 22
  },
  {
   "metadata": {},
   "cell_type": "markdown",
   "source": [
    "## 6. Neural Network Architecture\n",
    "\n",
    "In this block we:\n",
    "\n",
    "- Define a sequential neural network with layers such as Dense, Dropout, and appropriate activation functions.\n",
    "- Choose an optimizer (e.g., `Adam`), loss function (`binary_crossentropy`), and metrics (`AUC`, `Precision`, `Recall`).\n",
    "- Summarize the model to review layer shapes and parameter counts.\n",
    "\n",
    "This blueprint determines the capacity and regularization of our fraud detector.\n"
   ],
   "id": "da8258fdf3f688b"
  },
  {
   "cell_type": "code",
   "id": "7430a4b6",
   "metadata": {
    "ExecuteTime": {
     "end_time": "2025-05-24T10:30:25.675225Z",
     "start_time": "2025-05-24T10:30:25.474308Z"
    }
   },
   "source": [
    "# Building the model\n",
    "from tensorflow.keras.models import Sequential\n",
    "from tensorflow.keras.layers import Dense, Dropout\n",
    "\n",
    "model = Sequential([\n",
    "    Dense(64, activation='relu', input_shape=(X_train_scaled.shape[1],)),\n",
    "    Dropout(0.3),\n",
    "    Dense(32, activation='relu'),\n",
    "    Dropout(0.3),\n",
    "    Dense(16, activation='relu'),\n",
    "    Dense(1, activation='sigmoid'),\n",
    "])\n",
    "\n",
    "model.compile(\n",
    "    optimizer=Adam(1e-3),\n",
    "    loss='binary_crossentropy',\n",
    "    metrics=[\n",
    "        AUC(name='roc_auc', curve='ROC'),\n",
    "        AUC(name='pr_auc',  curve='PR')\n",
    "    ]\n",
    ")\n",
    "model.summary()"
   ],
   "outputs": [
    {
     "name": "stdout",
     "output_type": "stream",
     "text": [
      "Model: \"sequential_6\"\n",
      "_________________________________________________________________\n",
      " Layer (type)                Output Shape              Param #   \n",
      "=================================================================\n",
      " dense_24 (Dense)            (None, 64)                640       \n",
      "                                                                 \n",
      " dropout_12 (Dropout)        (None, 64)                0         \n",
      "                                                                 \n",
      " dense_25 (Dense)            (None, 32)                2080      \n",
      "                                                                 \n",
      " dropout_13 (Dropout)        (None, 32)                0         \n",
      "                                                                 \n",
      " dense_26 (Dense)            (None, 16)                528       \n",
      "                                                                 \n",
      " dense_27 (Dense)            (None, 1)                 17        \n",
      "                                                                 \n",
      "=================================================================\n",
      "Total params: 3,265\n",
      "Trainable params: 3,265\n",
      "Non-trainable params: 0\n",
      "_________________________________________________________________\n"
     ]
    }
   ],
   "execution_count": 23
  },
  {
   "metadata": {},
   "cell_type": "markdown",
   "source": [
    "## 7. Model Training & Early Stopping\n",
    "\n",
    "We train the network using:\n",
    "\n",
    "- The **training set** and monitor performance on the **validation set**.\n",
    "- An **EarlyStopping** callback that halts training once the validation AUC stops improving for 10 epochs in a row (to prevent overfitting).\n",
    "- A defined number of **epochs** and **batch size**.\n",
    "\n",
    "This yields the best model checkpoint before validation performance degrades.\n"
   ],
   "id": "a78cf7ae3a7111"
  },
  {
   "cell_type": "code",
   "id": "dfa62873",
   "metadata": {
    "ExecuteTime": {
     "end_time": "2025-05-24T10:36:57.224856Z",
     "start_time": "2025-05-24T10:30:25.753313Z"
    }
   },
   "source": [
    "# Train the model with early stopping\n",
    "es = EarlyStopping(\n",
    "    monitor='val_pr_auc',\n",
    "    mode='max',\n",
    "    patience=10,\n",
    "    restore_best_weights=True\n",
    ")\n",
    "\n",
    "# 3) Then, in your training cell, pass that callback as usual:\n",
    "history = model.fit(\n",
    "    X_train_scaled, y_train,\n",
    "    validation_data=(X_val_scaled, y_val),\n",
    "    epochs=100,\n",
    "    batch_size=64,\n",
    "    class_weight=class_weights,\n",
    "    callbacks=[es]\n",
    ")"
   ],
   "outputs": [
    {
     "name": "stdout",
     "output_type": "stream",
     "text": [
      "Epoch 1/100\n",
      "5448/5448 [==============================] - 14s 2ms/step - loss: 0.1649 - roc_auc: 0.9573 - pr_auc: 0.6070 - val_loss: 0.0604 - val_roc_auc: 0.9925 - val_pr_auc: 0.9368\n",
      "Epoch 2/100\n",
      "5448/5448 [==============================] - 15s 3ms/step - loss: 0.0714 - roc_auc: 0.9914 - pr_auc: 0.9174 - val_loss: 0.0420 - val_roc_auc: 0.9964 - val_pr_auc: 0.9504\n",
      "Epoch 3/100\n",
      "5448/5448 [==============================] - 11s 2ms/step - loss: 0.0671 - roc_auc: 0.9922 - pr_auc: 0.9275 - val_loss: 0.0362 - val_roc_auc: 0.9976 - val_pr_auc: 0.9631\n",
      "Epoch 4/100\n",
      "5448/5448 [==============================] - 11s 2ms/step - loss: 0.0656 - roc_auc: 0.9926 - pr_auc: 0.9304 - val_loss: 0.0410 - val_roc_auc: 0.9971 - val_pr_auc: 0.9655\n",
      "Epoch 5/100\n",
      "5448/5448 [==============================] - 12s 2ms/step - loss: 0.0629 - roc_auc: 0.9929 - pr_auc: 0.9351 - val_loss: 0.0308 - val_roc_auc: 0.9978 - val_pr_auc: 0.9633\n",
      "Epoch 6/100\n",
      "5448/5448 [==============================] - 12s 2ms/step - loss: 0.0624 - roc_auc: 0.9933 - pr_auc: 0.9359 - val_loss: 0.0290 - val_roc_auc: 0.9972 - val_pr_auc: 0.9599\n",
      "Epoch 7/100\n",
      "5448/5448 [==============================] - 12s 2ms/step - loss: 0.0610 - roc_auc: 0.9934 - pr_auc: 0.9392 - val_loss: 0.0382 - val_roc_auc: 0.9973 - val_pr_auc: 0.9695\n",
      "Epoch 8/100\n",
      "5448/5448 [==============================] - 13s 2ms/step - loss: 0.0601 - roc_auc: 0.9931 - pr_auc: 0.9405 - val_loss: 0.0376 - val_roc_auc: 0.9969 - val_pr_auc: 0.9677\n",
      "Epoch 9/100\n",
      "5448/5448 [==============================] - 12s 2ms/step - loss: 0.0597 - roc_auc: 0.9936 - pr_auc: 0.9420 - val_loss: 0.0308 - val_roc_auc: 0.9981 - val_pr_auc: 0.9696\n",
      "Epoch 10/100\n",
      "5448/5448 [==============================] - 13s 2ms/step - loss: 0.0589 - roc_auc: 0.9931 - pr_auc: 0.9429 - val_loss: 0.0321 - val_roc_auc: 0.9979 - val_pr_auc: 0.9648\n",
      "Epoch 11/100\n",
      "5448/5448 [==============================] - 13s 2ms/step - loss: 0.0586 - roc_auc: 0.9934 - pr_auc: 0.9439 - val_loss: 0.0341 - val_roc_auc: 0.9983 - val_pr_auc: 0.9700\n",
      "Epoch 12/100\n",
      "5448/5448 [==============================] - 12s 2ms/step - loss: 0.0571 - roc_auc: 0.9937 - pr_auc: 0.9466 - val_loss: 0.0353 - val_roc_auc: 0.9977 - val_pr_auc: 0.9691\n",
      "Epoch 13/100\n",
      "5448/5448 [==============================] - 12s 2ms/step - loss: 0.0568 - roc_auc: 0.9934 - pr_auc: 0.9470 - val_loss: 0.0323 - val_roc_auc: 0.9978 - val_pr_auc: 0.9739\n",
      "Epoch 14/100\n",
      "5448/5448 [==============================] - 13s 2ms/step - loss: 0.0566 - roc_auc: 0.9942 - pr_auc: 0.9479 - val_loss: 0.0340 - val_roc_auc: 0.9982 - val_pr_auc: 0.9713\n",
      "Epoch 15/100\n",
      "5448/5448 [==============================] - 12s 2ms/step - loss: 0.0556 - roc_auc: 0.9941 - pr_auc: 0.9486 - val_loss: 0.0271 - val_roc_auc: 0.9980 - val_pr_auc: 0.9687\n",
      "Epoch 16/100\n",
      "5448/5448 [==============================] - 13s 2ms/step - loss: 0.0560 - roc_auc: 0.9939 - pr_auc: 0.9488 - val_loss: 0.0325 - val_roc_auc: 0.9986 - val_pr_auc: 0.9764\n",
      "Epoch 17/100\n",
      "5448/5448 [==============================] - 12s 2ms/step - loss: 0.0551 - roc_auc: 0.9944 - pr_auc: 0.9501 - val_loss: 0.0302 - val_roc_auc: 0.9979 - val_pr_auc: 0.9730\n",
      "Epoch 18/100\n",
      "5448/5448 [==============================] - 14s 2ms/step - loss: 0.0546 - roc_auc: 0.9944 - pr_auc: 0.9508 - val_loss: 0.0332 - val_roc_auc: 0.9980 - val_pr_auc: 0.9729\n",
      "Epoch 19/100\n",
      "5448/5448 [==============================] - 15s 3ms/step - loss: 0.0531 - roc_auc: 0.9948 - pr_auc: 0.9535 - val_loss: 0.0301 - val_roc_auc: 0.9987 - val_pr_auc: 0.9777\n",
      "Epoch 20/100\n",
      "5448/5448 [==============================] - 14s 2ms/step - loss: 0.0543 - roc_auc: 0.9944 - pr_auc: 0.9529 - val_loss: 0.0304 - val_roc_auc: 0.9984 - val_pr_auc: 0.9725\n",
      "Epoch 21/100\n",
      "5448/5448 [==============================] - 12s 2ms/step - loss: 0.0538 - roc_auc: 0.9947 - pr_auc: 0.9528 - val_loss: 0.0371 - val_roc_auc: 0.9984 - val_pr_auc: 0.9774\n",
      "Epoch 22/100\n",
      "5448/5448 [==============================] - 13s 2ms/step - loss: 0.0537 - roc_auc: 0.9950 - pr_auc: 0.9531 - val_loss: 0.0328 - val_roc_auc: 0.9980 - val_pr_auc: 0.9733\n",
      "Epoch 23/100\n",
      "5448/5448 [==============================] - 16s 3ms/step - loss: 0.0535 - roc_auc: 0.9946 - pr_auc: 0.9528 - val_loss: 0.0402 - val_roc_auc: 0.9969 - val_pr_auc: 0.9718\n",
      "Epoch 24/100\n",
      "5448/5448 [==============================] - 16s 3ms/step - loss: 0.0523 - roc_auc: 0.9947 - pr_auc: 0.9551 - val_loss: 0.0287 - val_roc_auc: 0.9982 - val_pr_auc: 0.9715\n",
      "Epoch 25/100\n",
      "5448/5448 [==============================] - 16s 3ms/step - loss: 0.0533 - roc_auc: 0.9946 - pr_auc: 0.9542 - val_loss: 0.0309 - val_roc_auc: 0.9982 - val_pr_auc: 0.9758\n",
      "Epoch 26/100\n",
      "5448/5448 [==============================] - 16s 3ms/step - loss: 0.0536 - roc_auc: 0.9946 - pr_auc: 0.9531 - val_loss: 0.0277 - val_roc_auc: 0.9975 - val_pr_auc: 0.9708\n",
      "Epoch 27/100\n",
      "5448/5448 [==============================] - 19s 4ms/step - loss: 0.0526 - roc_auc: 0.9945 - pr_auc: 0.9542 - val_loss: 0.0297 - val_roc_auc: 0.9981 - val_pr_auc: 0.9751\n",
      "Epoch 28/100\n",
      "5448/5448 [==============================] - 15s 3ms/step - loss: 0.0516 - roc_auc: 0.9950 - pr_auc: 0.9565 - val_loss: 0.0309 - val_roc_auc: 0.9978 - val_pr_auc: 0.9770\n",
      "Epoch 29/100\n",
      "5448/5448 [==============================] - 14s 3ms/step - loss: 0.0523 - roc_auc: 0.9945 - pr_auc: 0.9553 - val_loss: 0.0253 - val_roc_auc: 0.9985 - val_pr_auc: 0.9745\n"
     ]
    }
   ],
   "execution_count": 24
  },
  {
   "metadata": {},
   "cell_type": "markdown",
   "source": [
    "## 8. Training History: AUC Over Epochs\n",
    "\n",
    "Visualize:\n",
    "\n",
    "- **Training ROC-AUC** vs **Validation ROC-AUC** per epoch.  \n",
    "- **Training PR-AUC** vs **Validation PR-AUC** per epoch.  \n",
    "- Identify if/when the model begins to overfit (divergence in ROC-AUC) or loses precision–recall performance.  \n",
    "- Decide if further regularization or more data is needed.\n",
    "\n",
    "This diagnostic plot guides future tuning.\n",
    "\n"
   ],
   "id": "69cecac84a49f59f"
  },
  {
   "cell_type": "code",
   "id": "aaded4ed",
   "metadata": {
    "ExecuteTime": {
     "end_time": "2025-05-24T10:36:58.376270Z",
     "start_time": "2025-05-24T10:36:57.312167Z"
    }
   },
   "source": [
    "# Plot ROC-AUC and PR-AUC history\n",
    "plt.figure(figsize=(8, 5))\n",
    "plt.plot(history.history['roc_auc'], label='Train ROC-AUC')\n",
    "plt.plot(history.history['val_roc_auc'], label='Val ROC-AUC')\n",
    "plt.plot(history.history['pr_auc'], label='Train PR-AUC')\n",
    "plt.plot(history.history['val_pr_auc'], label='Val PR-AUC')\n",
    "plt.title('Training and Validation AUC Metrics')\n",
    "plt.xlabel('Epoch')\n",
    "plt.ylabel('AUC')\n",
    "plt.legend()\n",
    "plt.show()\n"
   ],
   "outputs": [
    {
     "data": {
      "text/plain": [
       "<Figure size 800x500 with 1 Axes>"
      ],
      "image/png": "[encoded data removed]"
     },
     "metadata": {},
     "output_type": "display_data"
    }
   ],
   "execution_count": 25
  },
  {
   "metadata": {},
   "cell_type": "markdown",
   "source": [
    "## 9. Precision–Recall Curve (Validation)\n",
    "\n",
    "On the validation set:\n",
    "\n",
    "- Compute precision and recall across thresholds.\n",
    "- Plot the **Precision–Recall** curve to understand trade-offs.\n",
    "- Compute the **area under the PR curve** as another performance metric for imbalanced data.\n",
    "\n",
    "This helps select an operating point that balances catching fraud vs. false alarms.\n"
   ],
   "id": "fc3620860c413e75"
  },
  {
   "cell_type": "code",
   "id": "d0b7f9b4",
   "metadata": {
    "ExecuteTime": {
     "end_time": "2025-05-24T10:37:02.118958Z",
     "start_time": "2025-05-24T10:36:58.428277Z"
    }
   },
   "source": [
    "# Precision-Recall curve on validation set\n",
    "y_val_prob = model.predict(X_val_scaled).ravel()\n",
    "precision_vals, recall_vals, pr_thresholds = precision_recall_curve(y_val, y_val_prob)\n",
    "\n",
    "plt.figure(figsize=(6, 6))\n",
    "plt.plot(recall_vals, precision_vals)\n",
    "plt.title('Validation Precision-Recall Curve')\n",
    "plt.xlabel('Recall')\n",
    "plt.ylabel('Precision')\n",
    "plt.show()"
   ],
   "outputs": [
    {
     "name": "stdout",
     "output_type": "stream",
     "text": [
      "2335/2335 [==============================] - 3s 1ms/step\n"
     ]
    },
    {
     "data": {
      "text/plain": [
       "<Figure size 600x600 with 1 Axes>"
      ],
      "image/png": "[encoded data removed]"
     },
     "metadata": {},
     "output_type": "display_data"
    }
   ],
   "execution_count": 26
  },
  {
   "metadata": {},
   "cell_type": "markdown",
   "source": [
    "## 10. Determining Cost-Optimal Threshold\n",
    "\n",
    "We:\n",
    "\n",
    "1. Evaluate model predictions at many thresholds.\n",
    "2. Compute the **expected cost** at each threshold using our cost matrix.\n",
    "3. Select the threshold minimizing total cost on the validation set.\n",
    "\n",
    "This threshold will be used for final binary classification.\n"
   ],
   "id": "7c59ee179277dda"
  },
  {
   "cell_type": "code",
   "id": "26640714",
   "metadata": {
    "ExecuteTime": {
     "end_time": "2025-05-24T10:37:02.786836Z",
     "start_time": "2025-05-24T10:37:02.177370Z"
    }
   },
   "source": [
    "# Find cost-optimal threshold on validation set\n",
    "def calculate_cost(thresh, y_true, y_prob, fp_cost=5, fn_cost=1):\n",
    "    y_pred = (y_prob > thresh).astype(int)\n",
    "    tn, fp, fn, tp = confusion_matrix(y_true, y_pred).ravel()\n",
    "    return fp * fp_cost + fn * fn_cost\n",
    "\n",
    "thresholds = np.linspace(0, 1, 101)\n",
    "costs = [calculate_cost(t, y_val, y_val_prob) for t in thresholds]\n",
    "\n",
    "best_idx = np.argmin(costs)\n",
    "best_thresh = thresholds[best_idx]\n",
    "best_cost = costs[best_idx]\n",
    "print(f\"Best threshold = {best_thresh:.2f}, Cost = {best_cost}\")\n",
    "\n",
    "plt.figure(figsize=(6, 6))\n",
    "plt.plot(thresholds, costs, marker='o')\n",
    "plt.title('Validation Total Cost vs. Threshold')\n",
    "plt.xlabel('Threshold')\n",
    "plt.ylabel('Total Cost')\n",
    "plt.show()"
   ],
   "outputs": [
    {
     "name": "stdout",
     "output_type": "stream",
     "text": [
      "Best threshold = 0.36, Cost = 1043\n"
     ]
    },
    {
     "data": {
      "text/plain": [
       "<Figure size 600x600 with 1 Axes>"
      ],
      "image/png": "[encoded data removed]"
     },
     "metadata": {},
     "output_type": "display_data"
    }
   ],
   "execution_count": 27
  },
  {
   "metadata": {},
   "cell_type": "markdown",
   "source": [
    "## 11. Final Evaluation on Test Set\n",
    "\n",
    "Apply the chosen threshold to the **test set** predictions:\n",
    "\n",
    "- Generate the confusion matrix.\n",
    "- Compute final metrics: **True Positive Rate**, **False Positive Rate**, **Precision**, **Recall**, and **Total Cost**.\n",
    "- Compare against validation results to confirm generalization.\n",
    "\n",
    "This is the definitive performance report.\n"
   ],
   "id": "ca919bfb93b11083"
  },
  {
   "cell_type": "code",
   "id": "6ec9fb63",
   "metadata": {
    "ExecuteTime": {
     "end_time": "2025-05-24T10:37:06.561410Z",
     "start_time": "2025-05-24T10:37:02.849365Z"
    }
   },
   "source": [
    "# Evaluate on test set using cost-optimal threshold\n",
    "print(f\"Using threshold = {best_thresh:.2f} for test evaluation\")\n",
    "\n",
    "y_test_prob = model.predict(X_test_scaled).ravel()\n",
    "y_test_pred = (y_test_prob > best_thresh).astype(int)\n",
    "\n",
    "# Confusion matrix (grayscale)\n",
    "cm = confusion_matrix(y_test, y_test_pred)\n",
    "disp = ConfusionMatrixDisplay(cm, display_labels=['Legit', 'Fraud'])\n",
    "fig, ax = plt.subplots(figsize=(6, 6))\n",
    "disp.plot(ax=ax, cmap='gray_r', colorbar=False)\n",
    "ax.set_title(f'Test Confusion Matrix @ thresh={best_thresh:.2f}')\n",
    "plt.show()\n",
    "\n",
    "# Assuming y_test is your array or Series of true labels:\n",
    "\n",
    "# Total size of the test set\n",
    "print(f\"Test set size: {len(y_test)}\")\n",
    "\n",
    "# Number of positive cases (fraud = 1)\n",
    "num_positives = y_test.sum()\n",
    "print(f\"Fraud cases (positives): {num_positives}\")\n",
    "\n",
    "# Number of negative cases (no fraud = 0)\n",
    "num_negatives = len(y_test) - num_positives\n",
    "print(f\"Non-fraud cases (negatives): {num_negatives}\")"
   ],
   "outputs": [
    {
     "name": "stdout",
     "output_type": "stream",
     "text": [
      "Using threshold = 0.36 for test evaluation\n",
      "2335/2335 [==============================] - 3s 1ms/step\n"
     ]
    },
    {
     "data": {
      "text/plain": [
       "<Figure size 600x600 with 1 Axes>"
      ],
      "image/png": "[encoded data removed]"
     },
     "metadata": {},
     "output_type": "display_data"
    },
    {
     "name": "stdout",
     "output_type": "stream",
     "text": [
      "Test set size: 74708\n",
      "Fraud cases (positives): 3559\n",
      "Non-fraud cases (negatives): 71149\n"
     ]
    }
   ],
   "execution_count": 28
  },
  {
   "metadata": {},
   "cell_type": "markdown",
   "source": [
    "## 12. Summary Metrics Table\n",
    "\n",
    "Organize all key metrics into a single table for clear comparison.\n",
    "This tabular view is ideal for communicating results to stakeholders.\n"
   ],
   "id": "ddf2ffc775bd5da9"
  },
  {
   "cell_type": "code",
   "id": "fff32680",
   "metadata": {
    "ExecuteTime": {
     "end_time": "2025-05-24T10:37:06.711031Z",
     "start_time": "2025-05-24T10:37:06.608738Z"
    }
   },
   "source": [
    "# Metrics table on test set\n",
    "metrics = {\n",
    "    'Accuracy': accuracy_score(y_test, y_test_pred),\n",
    "    'Precision': precision_score(y_test, y_test_pred),\n",
    "    'Recall': recall_score(y_test, y_test_pred),\n",
    "    'F1 Score': f1_score(y_test, y_test_pred),\n",
    "    'ROC AUC': roc_auc_score(y_test, y_test_prob),\n",
    "    'MCC': matthews_corrcoef(y_test, y_test_pred)\n",
    "}\n",
    "\n",
    "pd.DataFrame([metrics])"
   ],
   "outputs": [
    {
     "data": {
      "text/plain": [
       "   Accuracy  Precision    Recall  F1 Score   ROC AUC       MCC\n",
       "0  0.988609   0.980824  0.776061   0.86651  0.998724  0.867087"
      ],
      "text/html": [
       "<div>\n",
       "<style scoped>\n",
       "    .dataframe tbody tr th:only-of-type {\n",
       "        vertical-align: middle;\n",
       "    }\n",
       "\n",
       "    .dataframe tbody tr th {\n",
       "        vertical-align: top;\n",
       "    }\n",
       "\n",
       "    .dataframe thead th {\n",
       "        text-align: right;\n",
       "    }\n",
       "</style>\n",
       "<table border=\"1\" class=\"dataframe\">\n",
       "  <thead>\n",
       "    <tr style=\"text-align: right;\">\n",
       "      <th></th>\n",
       "      <th>Accuracy</th>\n",
       "      <th>Precision</th>\n",
       "      <th>Recall</th>\n",
       "      <th>F1 Score</th>\n",
       "      <th>ROC AUC</th>\n",
       "      <th>MCC</th>\n",
       "    </tr>\n",
       "  </thead>\n",
       "  <tbody>\n",
       "    <tr>\n",
       "      <th>0</th>\n",
       "      <td>0.988609</td>\n",
       "      <td>0.980824</td>\n",
       "      <td>0.776061</td>\n",
       "      <td>0.86651</td>\n",
       "      <td>0.998724</td>\n",
       "      <td>0.867087</td>\n",
       "    </tr>\n",
       "  </tbody>\n",
       "</table>\n",
       "</div>"
      ]
     },
     "execution_count": 29,
     "metadata": {},
     "output_type": "execute_result"
    }
   ],
   "execution_count": 29
  },
  {
   "metadata": {},
   "cell_type": "markdown",
   "source": [
    "## 13. Model Export\n",
    "\n",
    "Finally, we:\n",
    "\n",
    "- Serialize the trained model to disk (e.g., `model.save('fraud_nn.h5')`).\n",
    "This makes the model ready for deployment in the retailer’s fraud-detection system.\n"
   ],
   "id": "7f0fa49859ab54d6"
  },
  {
   "cell_type": "code",
   "id": "039f37da",
   "metadata": {
    "ExecuteTime": {
     "end_time": "2025-05-24T10:37:06.873843Z",
     "start_time": "2025-05-24T10:37:06.824639Z"
    }
   },
   "source": [
    "# Export the trained model\n",
    "import os\n",
    "\n",
    "# save as HDF5\n",
    "export_path = '../Models/NeuralNetwork_Model.h5'\n",
    "model.save(export_path)\n",
    "print(f\"Model exported to {export_path}\")"
   ],
   "outputs": [
    {
     "name": "stdout",
     "output_type": "stream",
     "text": [
      "Model exported to ../Models/NeuralNetwork_Model.h5\n"
     ]
    }
   ],
   "execution_count": 30
  }
 ],
 "metadata": {
  "kernelspec": {
   "name": "python3",
   "language": "python",
   "display_name": "Python 3 (ipykernel)"
  }
 },
 "nbformat": 4,
 "nbformat_minor": 5
}
