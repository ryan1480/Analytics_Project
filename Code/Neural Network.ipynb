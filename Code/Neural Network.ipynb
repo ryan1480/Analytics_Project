{
 "cells": [
  {
   "cell_type": "markdown",
   "id": "2d5741d9",
   "metadata": {},
   "source": [
    "# Neural Network for Fraud Detection\n",
    "\n",
    "Cost-sensitive training with threshold optimization\n",
    "\n",
    "This notebook covers loading data, preprocessing, model building, training, cost-sensitive weighting, threshold optimization, evaluation metrics, confusion matrix, and exporting the model."
   ]
  },
  {
   "cell_type": "code",
   "id": "d99566e0",
   "metadata": {
    "ExecuteTime": {
     "end_time": "2025-05-22T22:16:18.248653Z",
     "start_time": "2025-05-22T22:16:18.217405Z"
    }
   },
   "source": [
    "# 1) Imports and setup\n",
    "import os\n",
    "import pandas as pd\n",
    "import numpy as np\n",
    "import tensorflow as tf\n",
    "import matplotlib.pyplot as plt\n",
    "\n",
    "from sklearn.model_selection import train_test_split\n",
    "from sklearn.preprocessing import StandardScaler\n",
    "from sklearn.utils.class_weight import compute_class_weight\n",
    "from sklearn.metrics import (\n",
    "    confusion_matrix,\n",
    "    ConfusionMatrixDisplay,\n",
    "    precision_recall_curve,\n",
    "    accuracy_score,\n",
    "    precision_score,\n",
    "    recall_score,\n",
    "    f1_score,\n",
    "    roc_auc_score,\n",
    "    matthews_corrcoef\n",
    ")"
   ],
   "outputs": [],
   "execution_count": 40
  },
  {
   "cell_type": "code",
   "id": "7b1b3097",
   "metadata": {
    "ExecuteTime": {
     "end_time": "2025-05-22T22:13:18.652189Z",
     "start_time": "2025-05-22T22:13:18.101395Z"
    }
   },
   "source": [
    "# 2) Load the dataset\n",
    "path = '../Data/Fraud Original Full.csv'\n",
    "df = pd.read_csv(path)\n",
    "print(f\"Loaded data with shape: {df.shape}\")\n",
    "df.head()"
   ],
   "outputs": [
    {
     "name": "stdout",
     "output_type": "stream",
     "text": [
      "Loaded data with shape: (498121, 10)\n"
     ]
    },
    {
     "data": {
      "text/plain": [
       "   trustLevel  totalScanTimeInSeconds  grandTotal  lineItemVoids  \\\n",
       "0           4                     467       88.48              4   \n",
       "1           3                    1004       58.99              7   \n",
       "2           1                     162       14.00              4   \n",
       "3           5                     532       84.79              9   \n",
       "4           5                     890       42.16              4   \n",
       "\n",
       "   scansWithoutRegistration  quantityModification  scannedLineItemsPerSecond  \\\n",
       "0                         8                     4                   0.014989   \n",
       "1                         6                     1                   0.026892   \n",
       "2                         5                     4                   0.006173   \n",
       "3                         3                     4                   0.026316   \n",
       "4                         0                     0                   0.021348   \n",
       "\n",
       "   valuePerSecond  lineItemVoidsPerPosition  fraud  \n",
       "0        0.189465                  0.571429      0  \n",
       "1        0.058755                  0.259259      0  \n",
       "2        0.086420                  4.000000      0  \n",
       "3        0.159380                  0.642857      0  \n",
       "4        0.047371                  0.210526      0  "
      ],
      "text/html": [
       "<div>\n",
       "<style scoped>\n",
       "    .dataframe tbody tr th:only-of-type {\n",
       "        vertical-align: middle;\n",
       "    }\n",
       "\n",
       "    .dataframe tbody tr th {\n",
       "        vertical-align: top;\n",
       "    }\n",
       "\n",
       "    .dataframe thead th {\n",
       "        text-align: right;\n",
       "    }\n",
       "</style>\n",
       "<table border=\"1\" class=\"dataframe\">\n",
       "  <thead>\n",
       "    <tr style=\"text-align: right;\">\n",
       "      <th></th>\n",
       "      <th>trustLevel</th>\n",
       "      <th>totalScanTimeInSeconds</th>\n",
       "      <th>grandTotal</th>\n",
       "      <th>lineItemVoids</th>\n",
       "      <th>scansWithoutRegistration</th>\n",
       "      <th>quantityModification</th>\n",
       "      <th>scannedLineItemsPerSecond</th>\n",
       "      <th>valuePerSecond</th>\n",
       "      <th>lineItemVoidsPerPosition</th>\n",
       "      <th>fraud</th>\n",
       "    </tr>\n",
       "  </thead>\n",
       "  <tbody>\n",
       "    <tr>\n",
       "      <th>0</th>\n",
       "      <td>4</td>\n",
       "      <td>467</td>\n",
       "      <td>88.48</td>\n",
       "      <td>4</td>\n",
       "      <td>8</td>\n",
       "      <td>4</td>\n",
       "      <td>0.014989</td>\n",
       "      <td>0.189465</td>\n",
       "      <td>0.571429</td>\n",
       "      <td>0</td>\n",
       "    </tr>\n",
       "    <tr>\n",
       "      <th>1</th>\n",
       "      <td>3</td>\n",
       "      <td>1004</td>\n",
       "      <td>58.99</td>\n",
       "      <td>7</td>\n",
       "      <td>6</td>\n",
       "      <td>1</td>\n",
       "      <td>0.026892</td>\n",
       "      <td>0.058755</td>\n",
       "      <td>0.259259</td>\n",
       "      <td>0</td>\n",
       "    </tr>\n",
       "    <tr>\n",
       "      <th>2</th>\n",
       "      <td>1</td>\n",
       "      <td>162</td>\n",
       "      <td>14.00</td>\n",
       "      <td>4</td>\n",
       "      <td>5</td>\n",
       "      <td>4</td>\n",
       "      <td>0.006173</td>\n",
       "      <td>0.086420</td>\n",
       "      <td>4.000000</td>\n",
       "      <td>0</td>\n",
       "    </tr>\n",
       "    <tr>\n",
       "      <th>3</th>\n",
       "      <td>5</td>\n",
       "      <td>532</td>\n",
       "      <td>84.79</td>\n",
       "      <td>9</td>\n",
       "      <td>3</td>\n",
       "      <td>4</td>\n",
       "      <td>0.026316</td>\n",
       "      <td>0.159380</td>\n",
       "      <td>0.642857</td>\n",
       "      <td>0</td>\n",
       "    </tr>\n",
       "    <tr>\n",
       "      <th>4</th>\n",
       "      <td>5</td>\n",
       "      <td>890</td>\n",
       "      <td>42.16</td>\n",
       "      <td>4</td>\n",
       "      <td>0</td>\n",
       "      <td>0</td>\n",
       "      <td>0.021348</td>\n",
       "      <td>0.047371</td>\n",
       "      <td>0.210526</td>\n",
       "      <td>0</td>\n",
       "    </tr>\n",
       "  </tbody>\n",
       "</table>\n",
       "</div>"
      ]
     },
     "execution_count": 30,
     "metadata": {},
     "output_type": "execute_result"
    }
   ],
   "execution_count": 30
  },
  {
   "cell_type": "code",
   "id": "e373e84e",
   "metadata": {
    "ExecuteTime": {
     "end_time": "2025-05-22T22:13:21.151874Z",
     "start_time": "2025-05-22T22:13:21.120624Z"
    }
   },
   "source": [
    "# 3) Dataset distribution\n",
    "print(\"Fraud proportion:\")\n",
    "print(df['fraud'].value_counts(normalize=True))"
   ],
   "outputs": [
    {
     "name": "stdout",
     "output_type": "stream",
     "text": [
      "Fraud proportion:\n",
      "fraud\n",
      "0    0.952367\n",
      "1    0.047633\n",
      "Name: proportion, dtype: float64\n"
     ]
    }
   ],
   "execution_count": 31
  },
  {
   "cell_type": "code",
   "id": "b7664bdc",
   "metadata": {
    "ExecuteTime": {
     "end_time": "2025-05-22T19:05:37.372016Z",
     "start_time": "2025-05-22T19:05:37.061714Z"
    }
   },
   "source": [
    "# 4) Split and scale features\n",
    "X = df.drop('fraud', axis=1)\n",
    "y = df['fraud']\n",
    "\n",
    "X_train, X_tmp, y_train, y_tmp = train_test_split(\n",
    "    X, y, test_size=0.3, stratify=y, random_state=42\n",
    ")\n",
    "X_val, X_test, y_val, y_test = train_test_split(\n",
    "    X_tmp, y_tmp, test_size=0.5, stratify=y_tmp, random_state=42\n",
    ")\n",
    "\n",
    "scaler = StandardScaler()\n",
    "X_train_scaled = scaler.fit_transform(X_train)\n",
    "X_val_scaled = scaler.transform(X_val)\n",
    "X_test_scaled = scaler.transform(X_test)\n",
    "\n",
    "print(f\"Train: {X_train.shape}, Val: {X_val.shape}, Test: {X_test.shape}\")"
   ],
   "outputs": [
    {
     "name": "stdout",
     "output_type": "stream",
     "text": [
      "Train: (348684, 9), Val: (74718, 9), Test: (74719, 9)\n"
     ]
    }
   ],
   "execution_count": 8
  },
  {
   "cell_type": "code",
   "id": "c9c76a1b",
   "metadata": {
    "ExecuteTime": {
     "end_time": "2025-05-22T19:05:44.146845Z",
     "start_time": "2025-05-22T19:05:44.131134Z"
    }
   },
   "source": [
    "# 5) Cost-sensitive class weights (FP cost = 5× FN cost)\n",
    "class_weights = {0: 5, 1: 1}\n",
    "print(f\"Class weights: {class_weights}\")"
   ],
   "outputs": [
    {
     "name": "stdout",
     "output_type": "stream",
     "text": [
      "Class weights: {0: 5, 1: 1}\n"
     ]
    }
   ],
   "execution_count": 9
  },
  {
   "cell_type": "code",
   "id": "7430a4b6",
   "metadata": {
    "ExecuteTime": {
     "end_time": "2025-05-22T19:05:46.460459Z",
     "start_time": "2025-05-22T19:05:46.298398Z"
    }
   },
   "source": [
    "# 6) Build the model\n",
    "from tensorflow.keras.models import Sequential\n",
    "from tensorflow.keras.layers import Dense, Dropout\n",
    "\n",
    "model = Sequential([\n",
    "    Dense(64, activation='relu', input_shape=(X_train_scaled.shape[1],)),\n",
    "    Dropout(0.3),\n",
    "    Dense(32, activation='relu'),\n",
    "    Dropout(0.3),\n",
    "    Dense(16, activation='relu'),\n",
    "    Dense(1, activation='sigmoid'),\n",
    "])\n",
    "\n",
    "model.compile(\n",
    "    optimizer=tf.keras.optimizers.Adam(1e-3),\n",
    "    loss='binary_crossentropy',\n",
    "    metrics=[tf.keras.metrics.AUC(name='auc')]\n",
    ")\n",
    "model.summary()"
   ],
   "outputs": [
    {
     "name": "stdout",
     "output_type": "stream",
     "text": [
      "Model: \"sequential\"\n",
      "_________________________________________________________________\n",
      " Layer (type)                Output Shape              Param #   \n",
      "=================================================================\n",
      " dense (Dense)               (None, 64)                640       \n",
      "                                                                 \n",
      " dropout (Dropout)           (None, 64)                0         \n",
      "                                                                 \n",
      " dense_1 (Dense)             (None, 32)                2080      \n",
      "                                                                 \n",
      " dropout_1 (Dropout)         (None, 32)                0         \n",
      "                                                                 \n",
      " dense_2 (Dense)             (None, 16)                528       \n",
      "                                                                 \n",
      " dense_3 (Dense)             (None, 1)                 17        \n",
      "                                                                 \n",
      "=================================================================\n",
      "Total params: 3,265\n",
      "Trainable params: 3,265\n",
      "Non-trainable params: 0\n",
      "_________________________________________________________________\n"
     ]
    }
   ],
   "execution_count": 10
  },
  {
   "cell_type": "code",
   "id": "dfa62873",
   "metadata": {
    "ExecuteTime": {
     "end_time": "2025-05-22T19:19:57.332814Z",
     "start_time": "2025-05-22T19:05:51.036658Z"
    }
   },
   "source": [
    "# 7) Train with early stopping\n",
    "callbacks = [\n",
    "    tf.keras.callbacks.EarlyStopping(\n",
    "        monitor='val_auc', patience=10, mode='max', restore_best_weights=True\n",
    "    )\n",
    "]\n",
    "\n",
    "history = model.fit(\n",
    "    X_train_scaled,\n",
    "    y_train,\n",
    "    validation_data=(X_val_scaled, y_val),\n",
    "    epochs=100,\n",
    "    batch_size=64,\n",
    "    class_weight=class_weights,\n",
    "    callbacks=callbacks,\n",
    ")"
   ],
   "outputs": [
    {
     "name": "stdout",
     "output_type": "stream",
     "text": [
      "Epoch 1/100\n",
      "5449/5449 [==============================] - 12s 2ms/step - loss: 0.1319 - auc: 0.9671 - val_loss: 0.0519 - val_auc: 0.9946\n",
      "Epoch 2/100\n",
      "5449/5449 [==============================] - 11s 2ms/step - loss: 0.0719 - auc: 0.9912 - val_loss: 0.0446 - val_auc: 0.9954\n",
      "Epoch 3/100\n",
      "5449/5449 [==============================] - 10s 2ms/step - loss: 0.0679 - auc: 0.9916 - val_loss: 0.0412 - val_auc: 0.9961\n",
      "Epoch 4/100\n",
      "5449/5449 [==============================] - 11s 2ms/step - loss: 0.0664 - auc: 0.9917 - val_loss: 0.0477 - val_auc: 0.9948\n",
      "Epoch 5/100\n",
      "5449/5449 [==============================] - 14s 3ms/step - loss: 0.0647 - auc: 0.9919 - val_loss: 0.0378 - val_auc: 0.9962\n",
      "Epoch 6/100\n",
      "5449/5449 [==============================] - 257s 47ms/step - loss: 0.0626 - auc: 0.9929 - val_loss: 0.0453 - val_auc: 0.9956\n",
      "Epoch 7/100\n",
      "5449/5449 [==============================] - 13s 2ms/step - loss: 0.0619 - auc: 0.9932 - val_loss: 0.0354 - val_auc: 0.9962\n",
      "Epoch 8/100\n",
      "5449/5449 [==============================] - 14s 3ms/step - loss: 0.0616 - auc: 0.9926 - val_loss: 0.0371 - val_auc: 0.9969\n",
      "Epoch 9/100\n",
      "5449/5449 [==============================] - 15s 3ms/step - loss: 0.0597 - auc: 0.9932 - val_loss: 0.0401 - val_auc: 0.9945\n",
      "Epoch 10/100\n",
      "5449/5449 [==============================] - 11s 2ms/step - loss: 0.0593 - auc: 0.9935 - val_loss: 0.0355 - val_auc: 0.9972\n",
      "Epoch 11/100\n",
      "5449/5449 [==============================] - 14s 3ms/step - loss: 0.0591 - auc: 0.9932 - val_loss: 0.0329 - val_auc: 0.9978\n",
      "Epoch 12/100\n",
      "5449/5449 [==============================] - 17s 3ms/step - loss: 0.0580 - auc: 0.9934 - val_loss: 0.0389 - val_auc: 0.9962\n",
      "Epoch 13/100\n",
      "5449/5449 [==============================] - 18s 3ms/step - loss: 0.0583 - auc: 0.9938 - val_loss: 0.0591 - val_auc: 0.9951\n",
      "Epoch 14/100\n",
      "5449/5449 [==============================] - 16s 3ms/step - loss: 0.0568 - auc: 0.9942 - val_loss: 0.0347 - val_auc: 0.9982\n",
      "Epoch 15/100\n",
      "5449/5449 [==============================] - 15s 3ms/step - loss: 0.0563 - auc: 0.9944 - val_loss: 0.0374 - val_auc: 0.9965\n",
      "Epoch 16/100\n",
      "5449/5449 [==============================] - 13s 2ms/step - loss: 0.0553 - auc: 0.9945 - val_loss: 0.0434 - val_auc: 0.9972\n",
      "Epoch 17/100\n",
      "5449/5449 [==============================] - 17s 3ms/step - loss: 0.0556 - auc: 0.9938 - val_loss: 0.0319 - val_auc: 0.9983\n",
      "Epoch 18/100\n",
      "5449/5449 [==============================] - 16s 3ms/step - loss: 0.0549 - auc: 0.9946 - val_loss: 0.0503 - val_auc: 0.9972\n",
      "Epoch 19/100\n",
      "5449/5449 [==============================] - 13s 2ms/step - loss: 0.0538 - auc: 0.9944 - val_loss: 0.0447 - val_auc: 0.9966\n",
      "Epoch 20/100\n",
      "5449/5449 [==============================] - 15s 3ms/step - loss: 0.0547 - auc: 0.9941 - val_loss: 0.0338 - val_auc: 0.9975\n",
      "Epoch 21/100\n",
      "5449/5449 [==============================] - 16s 3ms/step - loss: 0.0537 - auc: 0.9948 - val_loss: 0.0350 - val_auc: 0.9985\n",
      "Epoch 22/100\n",
      "5449/5449 [==============================] - 15s 3ms/step - loss: 0.0535 - auc: 0.9946 - val_loss: 0.0360 - val_auc: 0.9980\n",
      "Epoch 23/100\n",
      "5449/5449 [==============================] - 13s 2ms/step - loss: 0.0521 - auc: 0.9944 - val_loss: 0.0277 - val_auc: 0.9984\n",
      "Epoch 24/100\n",
      "5449/5449 [==============================] - 12s 2ms/step - loss: 0.0530 - auc: 0.9951 - val_loss: 0.0317 - val_auc: 0.9985\n",
      "Epoch 25/100\n",
      "5449/5449 [==============================] - 13s 2ms/step - loss: 0.0521 - auc: 0.9948 - val_loss: 0.0384 - val_auc: 0.9978\n",
      "Epoch 26/100\n",
      "5449/5449 [==============================] - 15s 3ms/step - loss: 0.0526 - auc: 0.9949 - val_loss: 0.0336 - val_auc: 0.9984\n",
      "Epoch 27/100\n",
      "5449/5449 [==============================] - 14s 3ms/step - loss: 0.0517 - auc: 0.9948 - val_loss: 0.0341 - val_auc: 0.9968\n",
      "Epoch 28/100\n",
      "5449/5449 [==============================] - 14s 2ms/step - loss: 0.0522 - auc: 0.9950 - val_loss: 0.0373 - val_auc: 0.9984\n",
      "Epoch 29/100\n",
      "5449/5449 [==============================] - 13s 2ms/step - loss: 0.0514 - auc: 0.9950 - val_loss: 0.0362 - val_auc: 0.9983\n",
      "Epoch 30/100\n",
      "5449/5449 [==============================] - 13s 2ms/step - loss: 0.0507 - auc: 0.9955 - val_loss: 0.0328 - val_auc: 0.9982\n",
      "Epoch 31/100\n",
      "5449/5449 [==============================] - 13s 2ms/step - loss: 0.0527 - auc: 0.9955 - val_loss: 0.0280 - val_auc: 0.9987\n",
      "Epoch 32/100\n",
      "5449/5449 [==============================] - 20s 4ms/step - loss: 0.0510 - auc: 0.9952 - val_loss: 0.0315 - val_auc: 0.9984\n",
      "Epoch 33/100\n",
      "5449/5449 [==============================] - 16s 3ms/step - loss: 0.0506 - auc: 0.9952 - val_loss: 0.0289 - val_auc: 0.9981\n",
      "Epoch 34/100\n",
      "5449/5449 [==============================] - 18s 3ms/step - loss: 0.0498 - auc: 0.9951 - val_loss: 0.0273 - val_auc: 0.9983\n",
      "Epoch 35/100\n",
      "5449/5449 [==============================] - 16s 3ms/step - loss: 0.0496 - auc: 0.9954 - val_loss: 0.0339 - val_auc: 0.9981\n",
      "Epoch 36/100\n",
      "5449/5449 [==============================] - 15s 3ms/step - loss: 0.0511 - auc: 0.9954 - val_loss: 0.0337 - val_auc: 0.9978\n",
      "Epoch 37/100\n",
      "5449/5449 [==============================] - 18s 3ms/step - loss: 0.0500 - auc: 0.9951 - val_loss: 0.0264 - val_auc: 0.9984\n",
      "Epoch 38/100\n",
      "5449/5449 [==============================] - 18s 3ms/step - loss: 0.0505 - auc: 0.9950 - val_loss: 0.0326 - val_auc: 0.9982\n",
      "Epoch 39/100\n",
      "5449/5449 [==============================] - 16s 3ms/step - loss: 0.0527 - auc: 0.9953 - val_loss: 0.0414 - val_auc: 0.9970\n",
      "Epoch 40/100\n",
      "5449/5449 [==============================] - 22s 4ms/step - loss: 0.0497 - auc: 0.9954 - val_loss: 0.0334 - val_auc: 0.9983\n",
      "Epoch 41/100\n",
      "5449/5449 [==============================] - 16s 3ms/step - loss: 0.0488 - auc: 0.9958 - val_loss: 0.0256 - val_auc: 0.9984\n"
     ]
    }
   ],
   "execution_count": 11
  },
  {
   "cell_type": "code",
   "id": "aaded4ed",
   "metadata": {
    "ExecuteTime": {
     "end_time": "2025-05-22T22:07:30.911009Z",
     "start_time": "2025-05-22T22:07:30.472008Z"
    }
   },
   "source": [
    "# 8) Plot AUC history\n",
    "plt.figure(figsize=(8, 5))\n",
    "plt.plot(history.history['auc'], label='Train AUC')\n",
    "plt.plot(history.history['val_auc'], label='Val AUC')\n",
    "plt.title('Training and Validation AUC')\n",
    "plt.xlabel('Epoch')\n",
    "plt.ylabel('AUC')\n",
    "plt.legend()\n",
    "plt.show()"
   ],
   "outputs": [
    {
     "data": {
      "text/plain": [
       "<Figure size 800x500 with 1 Axes>"
      ],
      "image/png": "[encoded data removed]"
     },
     "metadata": {},
     "output_type": "display_data"
    }
   ],
   "execution_count": 12
  },
  {
   "cell_type": "code",
   "id": "d0b7f9b4",
   "metadata": {
    "ExecuteTime": {
     "end_time": "2025-05-22T22:07:41.501215Z",
     "start_time": "2025-05-22T22:07:36.641301Z"
    }
   },
   "source": [
    "# 9) Precision-Recall curve on validation set\n",
    "y_val_prob = model.predict(X_val_scaled).ravel()\n",
    "precision_vals, recall_vals, pr_thresholds = precision_recall_curve(y_val, y_val_prob)\n",
    "\n",
    "plt.figure(figsize=(6, 6))\n",
    "plt.plot(recall_vals, precision_vals)\n",
    "plt.title('Validation Precision-Recall Curve')\n",
    "plt.xlabel('Recall')\n",
    "plt.ylabel('Precision')\n",
    "plt.show()"
   ],
   "outputs": [
    {
     "name": "stdout",
     "output_type": "stream",
     "text": [
      "2335/2335 [==============================] - 3s 1ms/step\n"
     ]
    },
    {
     "data": {
      "text/plain": [
       "<Figure size 600x600 with 1 Axes>"
      ],
      "image/png": "[encoded data removed]"
     },
     "metadata": {},
     "output_type": "display_data"
    }
   ],
   "execution_count": 13
  },
  {
   "cell_type": "code",
   "id": "26640714",
   "metadata": {
    "ExecuteTime": {
     "end_time": "2025-05-22T22:07:48.349365Z",
     "start_time": "2025-05-22T22:07:47.426828Z"
    }
   },
   "source": [
    "# 10) Find cost-optimal threshold on validation set\n",
    "def calculate_cost(thresh, y_true, y_prob, fp_cost=5, fn_cost=1):\n",
    "    y_pred = (y_prob > thresh).astype(int)\n",
    "    tn, fp, fn, tp = confusion_matrix(y_true, y_pred).ravel()\n",
    "    return fp * fp_cost + fn * fn_cost\n",
    "\n",
    "thresholds = np.linspace(0, 1, 101)\n",
    "costs = [calculate_cost(t, y_val, y_val_prob) for t in thresholds]\n",
    "\n",
    "best_idx = np.argmin(costs)\n",
    "best_thresh = thresholds[best_idx]\n",
    "best_cost = costs[best_idx]\n",
    "print(f\"Best threshold = {best_thresh:.2f}, Cost = {best_cost}\")\n",
    "\n",
    "plt.figure(figsize=(6, 6))\n",
    "plt.plot(thresholds, costs, marker='o')\n",
    "plt.title('Validation Total Cost vs. Threshold')\n",
    "plt.xlabel('Threshold')\n",
    "plt.ylabel('Total Cost')\n",
    "plt.show()"
   ],
   "outputs": [
    {
     "name": "stdout",
     "output_type": "stream",
     "text": [
      "Best threshold = 0.41, Cost = 1109\n"
     ]
    },
    {
     "data": {
      "text/plain": [
       "<Figure size 600x600 with 1 Axes>"
      ],
      "image/png": "[encoded data removed]"
     },
     "metadata": {},
     "output_type": "display_data"
    }
   ],
   "execution_count": 14
  },
  {
   "cell_type": "code",
   "id": "6ec9fb63",
   "metadata": {
    "ExecuteTime": {
     "end_time": "2025-05-22T22:11:10.518969Z",
     "start_time": "2025-05-22T22:11:06.353434Z"
    }
   },
   "source": [
    "# 11) Evaluate on test set using cost-optimal threshold\n",
    "print(f\"Using threshold = {best_thresh:.2f} for test evaluation\")\n",
    "\n",
    "y_test_prob = model.predict(X_test_scaled).ravel()\n",
    "y_test_pred = (y_test_prob > best_thresh).astype(int)\n",
    "\n",
    "# Confusion matrix (grayscale)\n",
    "cm = confusion_matrix(y_test, y_test_pred)\n",
    "disp = ConfusionMatrixDisplay(cm, display_labels=['Legit', 'Fraud'])\n",
    "fig, ax = plt.subplots(figsize=(6, 6))\n",
    "disp.plot(ax=ax, cmap='gray_r', colorbar=False)\n",
    "ax.set_title(f'Test Confusion Matrix @ thresh={best_thresh:.2f}')\n",
    "plt.show()"
   ],
   "outputs": [
    {
     "name": "stdout",
     "output_type": "stream",
     "text": [
      "Using threshold = 0.41 for test evaluation\n",
      "2335/2335 [==============================] - 3s 1ms/step\n"
     ]
    },
    {
     "data": {
      "text/plain": [
       "<Figure size 600x600 with 1 Axes>"
      ],
      "image/png": "[encoded data removed]"
     },
     "metadata": {},
     "output_type": "display_data"
    }
   ],
   "execution_count": 20
  },
  {
   "cell_type": "code",
   "id": "fff32680",
   "metadata": {
    "ExecuteTime": {
     "end_time": "2025-05-22T22:11:18.928891Z",
     "start_time": "2025-05-22T22:11:18.823597Z"
    }
   },
   "source": [
    "# 12) Metrics table on test set\n",
    "metrics = {\n",
    "    'Accuracy': accuracy_score(y_test, y_test_pred),\n",
    "    'Precision': precision_score(y_test, y_test_pred),\n",
    "    'Recall': recall_score(y_test, y_test_pred),\n",
    "    'F1 Score': f1_score(y_test, y_test_pred),\n",
    "    'ROC AUC': roc_auc_score(y_test, y_test_prob),\n",
    "    'MCC': matthews_corrcoef(y_test, y_test_pred)\n",
    "}\n",
    "\n",
    "pd.DataFrame([metrics])"
   ],
   "outputs": [
    {
     "data": {
      "text/plain": [
       "   Accuracy  Precision    Recall  F1 Score   ROC AUC       MCC\n",
       "0  0.989039   0.978018  0.787581  0.872529  0.999005  0.872425"
      ],
      "text/html": [
       "<div>\n",
       "<style scoped>\n",
       "    .dataframe tbody tr th:only-of-type {\n",
       "        vertical-align: middle;\n",
       "    }\n",
       "\n",
       "    .dataframe tbody tr th {\n",
       "        vertical-align: top;\n",
       "    }\n",
       "\n",
       "    .dataframe thead th {\n",
       "        text-align: right;\n",
       "    }\n",
       "</style>\n",
       "<table border=\"1\" class=\"dataframe\">\n",
       "  <thead>\n",
       "    <tr style=\"text-align: right;\">\n",
       "      <th></th>\n",
       "      <th>Accuracy</th>\n",
       "      <th>Precision</th>\n",
       "      <th>Recall</th>\n",
       "      <th>F1 Score</th>\n",
       "      <th>ROC AUC</th>\n",
       "      <th>MCC</th>\n",
       "    </tr>\n",
       "  </thead>\n",
       "  <tbody>\n",
       "    <tr>\n",
       "      <th>0</th>\n",
       "      <td>0.989039</td>\n",
       "      <td>0.978018</td>\n",
       "      <td>0.787581</td>\n",
       "      <td>0.872529</td>\n",
       "      <td>0.999005</td>\n",
       "      <td>0.872425</td>\n",
       "    </tr>\n",
       "  </tbody>\n",
       "</table>\n",
       "</div>"
      ]
     },
     "execution_count": 21,
     "metadata": {},
     "output_type": "execute_result"
    }
   ],
   "execution_count": 21
  },
  {
   "cell_type": "code",
   "id": "039f37da",
   "metadata": {
    "ExecuteTime": {
     "end_time": "2025-05-22T22:16:49.390589Z",
     "start_time": "2025-05-22T22:16:49.343693Z"
    }
   },
   "source": [
    "# Export the trained model for client delivery\n",
    "import os\n",
    "\n",
    "# save as HDF5\n",
    "export_path = '../Models/NeuralNetwork_Model.h5'\n",
    "model.save(export_path)\n",
    "print(f\"Model exported to {export_path}\")"
   ],
   "outputs": [
    {
     "name": "stdout",
     "output_type": "stream",
     "text": [
      "Model exported to ../Models/NeuralNetwork_Model.h5\n"
     ]
    }
   ],
   "execution_count": 42
  }
 ],
 "metadata": {
  "kernelspec": {
   "name": "python3",
   "language": "python",
   "display_name": "Python 3 (ipykernel)"
  }
 },
 "nbformat": 4,
 "nbformat_minor": 5
}
